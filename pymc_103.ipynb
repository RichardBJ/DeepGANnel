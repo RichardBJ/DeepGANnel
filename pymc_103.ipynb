{
 "cells": [
  {
   "cell_type": "code",
   "execution_count": 13,
   "id": "e57f8bbc-e149-4f7c-bf66-b85465358673",
   "metadata": {},
   "outputs": [],
   "source": [
    "import numpy as np\n",
    "import pymc as pm\n",
    "import arviz as az\n",
    "import matplotlib.pyplot as plt\n",
    "\n",
    "points=100 #=Samples"
   ]
  },
  {
   "cell_type": "code",
   "execution_count": 2,
   "id": "8a0b3342-948e-4e63-b14a-b01d00bcc713",
   "metadata": {},
   "outputs": [],
   "source": [
    "import numpy as np\n",
    "from scipy.fft import fft, fftfreq\n",
    "\n",
    "def find_dominant_frequencies(data, sampling_rate=100):\n",
    "    \"\"\"\n",
    "    Find the dominant frequency for each sine wave in the input data.\n",
    "    \n",
    "    Parameters:\n",
    "    data (numpy.ndarray): 2D array of shape (n_waves, n_samples)\n",
    "    sampling_rate (float): The sampling rate of the sine waves\n",
    "    \n",
    "    Returns:\n",
    "    numpy.ndarray: 1D array of dominant frequencies for each sine wave\n",
    "    \"\"\"\n",
    "    n_waves, n_samples = data.shape\n",
    "    \n",
    "    # Compute the FFT for each row\n",
    "    fft_results = np.abs(fft(data, axis=1))\n",
    "    \n",
    "    # Create frequency axis\n",
    "    frequencies = fftfreq(n_samples, 1 / sampling_rate)\n",
    "    \n",
    "    # We only need the positive frequencies\n",
    "    positive_freq_mask = frequencies > 0\n",
    "    positive_frequencies = frequencies[positive_freq_mask]\n",
    "    fft_results = fft_results[:, positive_freq_mask]\n",
    "    \n",
    "    # Find the dominant frequency for each sine wave\n",
    "    dominant_frequencies = positive_frequencies[np.argmax(fft_results, axis=1)]\n",
    "    \n",
    "    return dominant_frequencies\n",
    "\n",
    "\n"
   ]
  },
  {
   "cell_type": "code",
   "execution_count": 15,
   "id": "99346df6-aba6-4876-912b-e1aa29ebf753",
   "metadata": {},
   "outputs": [
    {
     "name": "stdout",
     "output_type": "stream",
     "text": [
      "sines (100, 100)\n",
      "ffts (100,)\n"
     ]
    }
   ],
   "source": [
    "def make_sine(amp=1, freq=1, phase=0, offset=0.5, points=100, noise=0.1):\n",
    "    #makes \"real\" or \"predicted\" depending whether there is noise or not\n",
    "    x = np.linspace(0, 10, points)\n",
    "    sine = amp * np.sin(2 * np.pi * freq * x + phase) + offset\n",
    "    if noise > 0:\n",
    "        #Then we making REAL data\n",
    "        sine = sine + np.random.normal(0, noise, size=len(sine))       \n",
    "    return sine\n",
    "\n",
    "\"\"\"def make_real(amp=1, freq=1, phase=0, offset=0.5, points=100, noise=0.1):\n",
    "    sine = make_sine(amp=amp, freq=freq, phase=phase, offset=offset, points=100)\n",
    "    return sine + np.random.normal(0, noise, size=len(sine))\"\"\"\n",
    "\n",
    "#Make loads of sine waves\n",
    "def make_sine_array(amp=1, freq=1, phase=0, offset=0.5, points=100, samples=100, noise=0.1):\n",
    "    sine_array = np.zeros((samples, points))\n",
    "    for i in range(samples):\n",
    "        sine_array[i] = make_sine(amp=1, freq=1, phase=0, offset=0.5, points=100, noise=0.1)\n",
    "    return sine_array\n",
    "\n",
    "sines = make_sine_array(noise=0)\n",
    "print (\"sines\",sines.shape)\n",
    "\n",
    "ffts = find_dominant_frequencies(sines)\n",
    "print (\"ffts\",ffts.shape)\n"
   ]
  },
  {
   "cell_type": "code",
   "execution_count": 16,
   "id": "e8b1b546-ff92-4f9d-a607-cb368a96a4de",
   "metadata": {},
   "outputs": [
    {
     "name": "stdout",
     "output_type": "stream",
     "text": [
      "(100,)\n",
      "First 5 dominant frequencies: [1. 1. 1. 1. 1.]\n"
     ]
    },
    {
     "data": {
      "image/png": "[encoded data removed]",
      "text/plain": [
       "<Figure size 1200x600 with 1 Axes>"
      ]
     },
     "metadata": {},
     "output_type": "display_data"
    }
   ],
   "source": [
    "#test\n",
    "# Find dominant frequencies\n",
    "dominant_freqs = find_dominant_frequencies(sines, sampling_rate=10)  # Assuming 10 Hz sampling rate\n",
    "\n",
    "print(dominant_freqs.shape)  # Should print (100,)\n",
    "print(\"First 5 dominant frequencies:\", dominant_freqs[:5])\n",
    "\n",
    "# Optional: Plot the results\n",
    "import matplotlib.pyplot as plt\n",
    "plt.figure(figsize=(12, 6))\n",
    "plt.plot(dominant_freqs, 'o')\n",
    "plt.xlabel('Sine Wave Index')\n",
    "plt.ylabel('Dominant Frequency (Hz)')\n",
    "plt.title('Dominant Frequencies of Sine Waves')\n",
    "plt.grid(True)\n",
    "plt.show()"
   ]
  },
  {
   "cell_type": "code",
   "execution_count": 22,
   "id": "bc3dfc1c-234c-4649-8b09-0fe2b108b78a",
   "metadata": {},
   "outputs": [
    {
     "name": "stdout",
     "output_type": "stream",
     "text": [
      "Priors created\n",
      "Model run\n",
      "Tracing\n"
     ]
    },
    {
     "ename": "KeyboardInterrupt",
     "evalue": "",
     "output_type": "error",
     "traceback": [
      "\u001b[0;31m---------------------------------------------------------------------------\u001b[0m",
      "\u001b[0;31mKeyboardInterrupt\u001b[0m                         Traceback (most recent call last)",
      "Cell \u001b[0;32mIn[22], line 27\u001b[0m\n\u001b[1;32m     25\u001b[0m     \u001b[38;5;66;03m# Inference\u001b[39;00m\n\u001b[1;32m     26\u001b[0m     \u001b[38;5;28mprint\u001b[39m(\u001b[38;5;124m\"\u001b[39m\u001b[38;5;124mTracing\u001b[39m\u001b[38;5;124m\"\u001b[39m)\n\u001b[0;32m---> 27\u001b[0m     trace \u001b[38;5;241m=\u001b[39m \u001b[43mpm\u001b[49m\u001b[38;5;241;43m.\u001b[39;49m\u001b[43msample\u001b[49m\u001b[43m(\u001b[49m\u001b[38;5;241;43m100\u001b[39;49m\u001b[43m,\u001b[49m\u001b[43m \u001b[49m\u001b[43mtune\u001b[49m\u001b[38;5;241;43m=\u001b[39;49m\u001b[38;5;241;43m60\u001b[39;49m\u001b[43m,\u001b[49m\u001b[43m \u001b[49m\u001b[43mreturn_inferencedata\u001b[49m\u001b[38;5;241;43m=\u001b[39;49m\u001b[38;5;28;43;01mTrue\u001b[39;49;00m\u001b[43m)\u001b[49m\n\u001b[1;32m     28\u001b[0m     \u001b[38;5;28mprint\u001b[39m(\u001b[38;5;124m\"\u001b[39m\u001b[38;5;124mTraces complete\u001b[39m\u001b[38;5;124m\"\u001b[39m)\n\u001b[1;32m     30\u001b[0m \u001b[38;5;66;03m# Plot the results\u001b[39;00m\n",
      "File \u001b[0;32m~/miniconda3/envs/metal_102/lib/python3.9/site-packages/pymc/sampling/mcmc.py:679\u001b[0m, in \u001b[0;36msample\u001b[0;34m(draws, tune, chains, cores, random_seed, progressbar, step, var_names, nuts_sampler, initvals, init, jitter_max_retries, n_init, trace, discard_tuned_samples, compute_convergence_checks, keep_warning_stat, return_inferencedata, idata_kwargs, nuts_sampler_kwargs, callback, mp_ctx, model, **kwargs)\u001b[0m\n\u001b[1;32m    676\u001b[0m         auto_nuts_init \u001b[38;5;241m=\u001b[39m \u001b[38;5;28;01mFalse\u001b[39;00m\n\u001b[1;32m    678\u001b[0m initial_points \u001b[38;5;241m=\u001b[39m \u001b[38;5;28;01mNone\u001b[39;00m\n\u001b[0;32m--> 679\u001b[0m step \u001b[38;5;241m=\u001b[39m \u001b[43massign_step_methods\u001b[49m\u001b[43m(\u001b[49m\u001b[43mmodel\u001b[49m\u001b[43m,\u001b[49m\u001b[43m \u001b[49m\u001b[43mstep\u001b[49m\u001b[43m,\u001b[49m\u001b[43m \u001b[49m\u001b[43mmethods\u001b[49m\u001b[38;5;241;43m=\u001b[39;49m\u001b[43mpm\u001b[49m\u001b[38;5;241;43m.\u001b[39;49m\u001b[43mSTEP_METHODS\u001b[49m\u001b[43m,\u001b[49m\u001b[43m \u001b[49m\u001b[43mstep_kwargs\u001b[49m\u001b[38;5;241;43m=\u001b[39;49m\u001b[43mkwargs\u001b[49m\u001b[43m)\u001b[49m\n\u001b[1;32m    681\u001b[0m \u001b[38;5;28;01mif\u001b[39;00m nuts_sampler \u001b[38;5;241m!=\u001b[39m \u001b[38;5;124m\"\u001b[39m\u001b[38;5;124mpymc\u001b[39m\u001b[38;5;124m\"\u001b[39m:\n\u001b[1;32m    682\u001b[0m     \u001b[38;5;28;01mif\u001b[39;00m \u001b[38;5;129;01mnot\u001b[39;00m \u001b[38;5;28misinstance\u001b[39m(step, NUTS):\n",
      "File \u001b[0;32m~/miniconda3/envs/metal_102/lib/python3.9/site-packages/pymc/sampling/mcmc.py:232\u001b[0m, in \u001b[0;36massign_step_methods\u001b[0;34m(model, step, methods, step_kwargs)\u001b[0m\n\u001b[1;32m    224\u001b[0m         selected \u001b[38;5;241m=\u001b[39m \u001b[38;5;28mmax\u001b[39m(\n\u001b[1;32m    225\u001b[0m             methods_list,\n\u001b[1;32m    226\u001b[0m             key\u001b[38;5;241m=\u001b[39m\u001b[38;5;28;01mlambda\u001b[39;00m method, var\u001b[38;5;241m=\u001b[39mrv_var, has_gradient\u001b[38;5;241m=\u001b[39mhas_gradient: method\u001b[38;5;241m.\u001b[39m_competence(  \u001b[38;5;66;03m# type: ignore\u001b[39;00m\n\u001b[1;32m    227\u001b[0m                 var, has_gradient\n\u001b[1;32m    228\u001b[0m             ),\n\u001b[1;32m    229\u001b[0m         )\n\u001b[1;32m    230\u001b[0m         selected_steps\u001b[38;5;241m.\u001b[39msetdefault(selected, [])\u001b[38;5;241m.\u001b[39mappend(var)\n\u001b[0;32m--> 232\u001b[0m \u001b[38;5;28;01mreturn\u001b[39;00m \u001b[43minstantiate_steppers\u001b[49m\u001b[43m(\u001b[49m\u001b[43mmodel\u001b[49m\u001b[43m,\u001b[49m\u001b[43m \u001b[49m\u001b[43msteps\u001b[49m\u001b[43m,\u001b[49m\u001b[43m \u001b[49m\u001b[43mselected_steps\u001b[49m\u001b[43m,\u001b[49m\u001b[43m \u001b[49m\u001b[43mstep_kwargs\u001b[49m\u001b[43m)\u001b[49m\n",
      "File \u001b[0;32m~/miniconda3/envs/metal_102/lib/python3.9/site-packages/pymc/sampling/mcmc.py:133\u001b[0m, in \u001b[0;36minstantiate_steppers\u001b[0;34m(model, steps, selected_steps, step_kwargs)\u001b[0m\n\u001b[1;32m    131\u001b[0m         args \u001b[38;5;241m=\u001b[39m step_kwargs\u001b[38;5;241m.\u001b[39mget(name, {})\n\u001b[1;32m    132\u001b[0m         used_keys\u001b[38;5;241m.\u001b[39madd(name)\n\u001b[0;32m--> 133\u001b[0m         step \u001b[38;5;241m=\u001b[39m \u001b[43mstep_class\u001b[49m\u001b[43m(\u001b[49m\u001b[38;5;28;43mvars\u001b[39;49m\u001b[38;5;241;43m=\u001b[39;49m\u001b[38;5;28;43mvars\u001b[39;49m\u001b[43m,\u001b[49m\u001b[43m \u001b[49m\u001b[43mmodel\u001b[49m\u001b[38;5;241;43m=\u001b[39;49m\u001b[43mmodel\u001b[49m\u001b[43m,\u001b[49m\u001b[43m \u001b[49m\u001b[38;5;241;43m*\u001b[39;49m\u001b[38;5;241;43m*\u001b[39;49m\u001b[43margs\u001b[49m\u001b[43m)\u001b[49m\n\u001b[1;32m    134\u001b[0m         steps\u001b[38;5;241m.\u001b[39mappend(step)\n\u001b[1;32m    136\u001b[0m unused_args \u001b[38;5;241m=\u001b[39m \u001b[38;5;28mset\u001b[39m(step_kwargs)\u001b[38;5;241m.\u001b[39mdifference(used_keys)\n",
      "File \u001b[0;32m~/miniconda3/envs/metal_102/lib/python3.9/site-packages/pymc/step_methods/hmc/nuts.py:180\u001b[0m, in \u001b[0;36mNUTS.__init__\u001b[0;34m(self, vars, max_treedepth, early_max_treedepth, **kwargs)\u001b[0m\n\u001b[1;32m    122\u001b[0m \u001b[38;5;28;01mdef\u001b[39;00m \u001b[38;5;21m__init__\u001b[39m(\u001b[38;5;28mself\u001b[39m, \u001b[38;5;28mvars\u001b[39m\u001b[38;5;241m=\u001b[39m\u001b[38;5;28;01mNone\u001b[39;00m, max_treedepth\u001b[38;5;241m=\u001b[39m\u001b[38;5;241m10\u001b[39m, early_max_treedepth\u001b[38;5;241m=\u001b[39m\u001b[38;5;241m8\u001b[39m, \u001b[38;5;241m*\u001b[39m\u001b[38;5;241m*\u001b[39mkwargs):\n\u001b[1;32m    123\u001b[0m \u001b[38;5;250m    \u001b[39m\u001b[38;5;124mr\u001b[39m\u001b[38;5;124;03m\"\"\"Set up the No-U-Turn sampler.\u001b[39;00m\n\u001b[1;32m    124\u001b[0m \n\u001b[1;32m    125\u001b[0m \u001b[38;5;124;03m    Parameters\u001b[39;00m\n\u001b[0;32m   (...)\u001b[0m\n\u001b[1;32m    178\u001b[0m \u001b[38;5;124;03m    `pm.sample` to the desired number of tuning steps.\u001b[39;00m\n\u001b[1;32m    179\u001b[0m \u001b[38;5;124;03m    \"\"\"\u001b[39;00m\n\u001b[0;32m--> 180\u001b[0m     \u001b[38;5;28;43msuper\u001b[39;49m\u001b[43m(\u001b[49m\u001b[43m)\u001b[49m\u001b[38;5;241;43m.\u001b[39;49m\u001b[38;5;21;43m__init__\u001b[39;49m\u001b[43m(\u001b[49m\u001b[38;5;28;43mvars\u001b[39;49m\u001b[43m,\u001b[49m\u001b[43m \u001b[49m\u001b[38;5;241;43m*\u001b[39;49m\u001b[38;5;241;43m*\u001b[39;49m\u001b[43mkwargs\u001b[49m\u001b[43m)\u001b[49m\n\u001b[1;32m    182\u001b[0m     \u001b[38;5;28mself\u001b[39m\u001b[38;5;241m.\u001b[39mmax_treedepth \u001b[38;5;241m=\u001b[39m max_treedepth\n\u001b[1;32m    183\u001b[0m     \u001b[38;5;28mself\u001b[39m\u001b[38;5;241m.\u001b[39mearly_max_treedepth \u001b[38;5;241m=\u001b[39m early_max_treedepth\n",
      "File \u001b[0;32m~/miniconda3/envs/metal_102/lib/python3.9/site-packages/pymc/step_methods/hmc/base_hmc.py:109\u001b[0m, in \u001b[0;36mBaseHMC.__init__\u001b[0;34m(self, vars, scaling, step_scale, is_cov, model, blocked, potential, dtype, Emax, target_accept, gamma, k, t0, adapt_step_size, step_rand, **pytensor_kwargs)\u001b[0m\n\u001b[1;32m    107\u001b[0m \u001b[38;5;28;01melse\u001b[39;00m:\n\u001b[1;32m    108\u001b[0m     \u001b[38;5;28mvars\u001b[39m \u001b[38;5;241m=\u001b[39m get_value_vars_from_user_vars(\u001b[38;5;28mvars\u001b[39m, \u001b[38;5;28mself\u001b[39m\u001b[38;5;241m.\u001b[39m_model)\n\u001b[0;32m--> 109\u001b[0m \u001b[38;5;28;43msuper\u001b[39;49m\u001b[43m(\u001b[49m\u001b[43m)\u001b[49m\u001b[38;5;241;43m.\u001b[39;49m\u001b[38;5;21;43m__init__\u001b[39;49m\u001b[43m(\u001b[49m\u001b[38;5;28;43mvars\u001b[39;49m\u001b[43m,\u001b[49m\u001b[43m \u001b[49m\u001b[43mblocked\u001b[49m\u001b[38;5;241;43m=\u001b[39;49m\u001b[43mblocked\u001b[49m\u001b[43m,\u001b[49m\u001b[43m \u001b[49m\u001b[43mmodel\u001b[49m\u001b[38;5;241;43m=\u001b[39;49m\u001b[38;5;28;43mself\u001b[39;49m\u001b[38;5;241;43m.\u001b[39;49m\u001b[43m_model\u001b[49m\u001b[43m,\u001b[49m\u001b[43m \u001b[49m\u001b[43mdtype\u001b[49m\u001b[38;5;241;43m=\u001b[39;49m\u001b[43mdtype\u001b[49m\u001b[43m,\u001b[49m\u001b[43m \u001b[49m\u001b[38;5;241;43m*\u001b[39;49m\u001b[38;5;241;43m*\u001b[39;49m\u001b[43mpytensor_kwargs\u001b[49m\u001b[43m)\u001b[49m\n\u001b[1;32m    111\u001b[0m \u001b[38;5;28mself\u001b[39m\u001b[38;5;241m.\u001b[39madapt_step_size \u001b[38;5;241m=\u001b[39m adapt_step_size\n\u001b[1;32m    112\u001b[0m \u001b[38;5;28mself\u001b[39m\u001b[38;5;241m.\u001b[39mEmax \u001b[38;5;241m=\u001b[39m Emax\n",
      "File \u001b[0;32m~/miniconda3/envs/metal_102/lib/python3.9/site-packages/pymc/step_methods/arraystep.py:162\u001b[0m, in \u001b[0;36mGradientSharedStep.__init__\u001b[0;34m(self, vars, model, blocked, dtype, logp_dlogp_func, **pytensor_kwargs)\u001b[0m\n\u001b[1;32m    159\u001b[0m model \u001b[38;5;241m=\u001b[39m modelcontext(model)\n\u001b[1;32m    161\u001b[0m \u001b[38;5;28;01mif\u001b[39;00m logp_dlogp_func \u001b[38;5;129;01mis\u001b[39;00m \u001b[38;5;28;01mNone\u001b[39;00m:\n\u001b[0;32m--> 162\u001b[0m     func \u001b[38;5;241m=\u001b[39m \u001b[43mmodel\u001b[49m\u001b[38;5;241;43m.\u001b[39;49m\u001b[43mlogp_dlogp_function\u001b[49m\u001b[43m(\u001b[49m\u001b[38;5;28;43mvars\u001b[39;49m\u001b[43m,\u001b[49m\u001b[43m \u001b[49m\u001b[43mdtype\u001b[49m\u001b[38;5;241;43m=\u001b[39;49m\u001b[43mdtype\u001b[49m\u001b[43m,\u001b[49m\u001b[43m \u001b[49m\u001b[38;5;241;43m*\u001b[39;49m\u001b[38;5;241;43m*\u001b[39;49m\u001b[43mpytensor_kwargs\u001b[49m\u001b[43m)\u001b[49m\n\u001b[1;32m    163\u001b[0m \u001b[38;5;28;01melse\u001b[39;00m:\n\u001b[1;32m    164\u001b[0m     func \u001b[38;5;241m=\u001b[39m logp_dlogp_func\n",
      "File \u001b[0;32m~/miniconda3/envs/metal_102/lib/python3.9/site-packages/pymc/model/core.py:608\u001b[0m, in \u001b[0;36mModel.logp_dlogp_function\u001b[0;34m(self, grad_vars, tempered, **kwargs)\u001b[0m\n\u001b[1;32m    602\u001b[0m ip \u001b[38;5;241m=\u001b[39m \u001b[38;5;28mself\u001b[39m\u001b[38;5;241m.\u001b[39minitial_point(\u001b[38;5;241m0\u001b[39m)\n\u001b[1;32m    603\u001b[0m extra_vars_and_values \u001b[38;5;241m=\u001b[39m {\n\u001b[1;32m    604\u001b[0m     var: ip[var\u001b[38;5;241m.\u001b[39mname]\n\u001b[1;32m    605\u001b[0m     \u001b[38;5;28;01mfor\u001b[39;00m var \u001b[38;5;129;01min\u001b[39;00m \u001b[38;5;28mself\u001b[39m\u001b[38;5;241m.\u001b[39mvalue_vars\n\u001b[1;32m    606\u001b[0m     \u001b[38;5;28;01mif\u001b[39;00m var \u001b[38;5;129;01min\u001b[39;00m input_vars \u001b[38;5;129;01mand\u001b[39;00m var \u001b[38;5;129;01mnot\u001b[39;00m \u001b[38;5;129;01min\u001b[39;00m grad_vars\n\u001b[1;32m    607\u001b[0m }\n\u001b[0;32m--> 608\u001b[0m \u001b[38;5;28;01mreturn\u001b[39;00m \u001b[43mValueGradFunction\u001b[49m\u001b[43m(\u001b[49m\u001b[43mcosts\u001b[49m\u001b[43m,\u001b[49m\u001b[43m \u001b[49m\u001b[43mgrad_vars\u001b[49m\u001b[43m,\u001b[49m\u001b[43m \u001b[49m\u001b[43mextra_vars_and_values\u001b[49m\u001b[43m,\u001b[49m\u001b[43m \u001b[49m\u001b[38;5;241;43m*\u001b[39;49m\u001b[38;5;241;43m*\u001b[39;49m\u001b[43mkwargs\u001b[49m\u001b[43m)\u001b[49m\n",
      "File \u001b[0;32m~/miniconda3/envs/metal_102/lib/python3.9/site-packages/pymc/model/core.py:330\u001b[0m, in \u001b[0;36mValueGradFunction.__init__\u001b[0;34m(self, costs, grad_vars, extra_vars_and_values, dtype, casting, compute_grads, **kwargs)\u001b[0m\n\u001b[1;32m    327\u001b[0m     \u001b[38;5;28mself\u001b[39m\u001b[38;5;241m.\u001b[39m_extra_vars_shared[var\u001b[38;5;241m.\u001b[39mname] \u001b[38;5;241m=\u001b[39m shared\n\u001b[1;32m    328\u001b[0m     givens\u001b[38;5;241m.\u001b[39mappend((var, shared))\n\u001b[0;32m--> 330\u001b[0m cost \u001b[38;5;241m=\u001b[39m \u001b[43mrewrite_pregrad\u001b[49m\u001b[43m(\u001b[49m\u001b[43mcost\u001b[49m\u001b[43m)\u001b[49m\n\u001b[1;32m    332\u001b[0m \u001b[38;5;28;01mif\u001b[39;00m compute_grads:\n\u001b[1;32m    333\u001b[0m     grads \u001b[38;5;241m=\u001b[39m pytensor\u001b[38;5;241m.\u001b[39mgrad(cost, grad_vars, disconnected_inputs\u001b[38;5;241m=\u001b[39m\u001b[38;5;124m\"\u001b[39m\u001b[38;5;124mignore\u001b[39m\u001b[38;5;124m\"\u001b[39m)\n",
      "File \u001b[0;32m~/miniconda3/envs/metal_102/lib/python3.9/site-packages/pymc/pytensorf.py:1027\u001b[0m, in \u001b[0;36mrewrite_pregrad\u001b[0;34m(graph)\u001b[0m\n\u001b[1;32m   1023\u001b[0m \u001b[38;5;28;01mdef\u001b[39;00m \u001b[38;5;21mrewrite_pregrad\u001b[39m(graph):\n\u001b[1;32m   1024\u001b[0m \u001b[38;5;250m    \u001b[39m\u001b[38;5;124;03m\"\"\"Apply simplifying or stabilizing rewrites to graph that are safe to use\u001b[39;00m\n\u001b[1;32m   1025\u001b[0m \u001b[38;5;124;03m    pre-grad.\u001b[39;00m\n\u001b[1;32m   1026\u001b[0m \u001b[38;5;124;03m    \"\"\"\u001b[39;00m\n\u001b[0;32m-> 1027\u001b[0m     \u001b[38;5;28;01mreturn\u001b[39;00m \u001b[43mrewrite_graph\u001b[49m\u001b[43m(\u001b[49m\u001b[43mgraph\u001b[49m\u001b[43m,\u001b[49m\u001b[43m \u001b[49m\u001b[43minclude\u001b[49m\u001b[38;5;241;43m=\u001b[39;49m\u001b[43m(\u001b[49m\u001b[38;5;124;43m\"\u001b[39;49m\u001b[38;5;124;43mcanonicalize\u001b[39;49m\u001b[38;5;124;43m\"\u001b[39;49m\u001b[43m,\u001b[49m\u001b[43m \u001b[49m\u001b[38;5;124;43m\"\u001b[39;49m\u001b[38;5;124;43mstabilize\u001b[39;49m\u001b[38;5;124;43m\"\u001b[39;49m\u001b[43m)\u001b[49m\u001b[43m)\u001b[49m\n",
      "File \u001b[0;32m~/miniconda3/envs/metal_102/lib/python3.9/site-packages/pytensor/graph/rewriting/utils.py:61\u001b[0m, in \u001b[0;36mrewrite_graph\u001b[0;34m(graph, include, custom_rewrite, clone, **kwargs)\u001b[0m\n\u001b[1;32m     58\u001b[0m     fgraph \u001b[38;5;241m=\u001b[39m FunctionGraph(outputs\u001b[38;5;241m=\u001b[39moutputs, clone\u001b[38;5;241m=\u001b[39mclone)\n\u001b[1;32m     60\u001b[0m query_rewrites \u001b[38;5;241m=\u001b[39m optdb\u001b[38;5;241m.\u001b[39mquery(RewriteDatabaseQuery(include\u001b[38;5;241m=\u001b[39minclude, \u001b[38;5;241m*\u001b[39m\u001b[38;5;241m*\u001b[39mkwargs))\n\u001b[0;32m---> 61\u001b[0m _ \u001b[38;5;241m=\u001b[39m \u001b[43mquery_rewrites\u001b[49m\u001b[38;5;241;43m.\u001b[39;49m\u001b[43mrewrite\u001b[49m\u001b[43m(\u001b[49m\u001b[43mfgraph\u001b[49m\u001b[43m)\u001b[49m\n\u001b[1;32m     63\u001b[0m \u001b[38;5;28;01mif\u001b[39;00m custom_rewrite:\n\u001b[1;32m     64\u001b[0m     custom_rewrite\u001b[38;5;241m.\u001b[39mrewrite(fgraph)\n",
      "File \u001b[0;32m~/miniconda3/envs/metal_102/lib/python3.9/site-packages/pytensor/graph/rewriting/basic.py:120\u001b[0m, in \u001b[0;36mGraphRewriter.rewrite\u001b[0;34m(self, fgraph, *args, **kwargs)\u001b[0m\n\u001b[1;32m    111\u001b[0m \u001b[38;5;250m\u001b[39m\u001b[38;5;124;03m\"\"\"\u001b[39;00m\n\u001b[1;32m    112\u001b[0m \n\u001b[1;32m    113\u001b[0m \u001b[38;5;124;03mThis is meant as a shortcut for the following::\u001b[39;00m\n\u001b[0;32m   (...)\u001b[0m\n\u001b[1;32m    117\u001b[0m \n\u001b[1;32m    118\u001b[0m \u001b[38;5;124;03m\"\"\"\u001b[39;00m\n\u001b[1;32m    119\u001b[0m \u001b[38;5;28mself\u001b[39m\u001b[38;5;241m.\u001b[39madd_requirements(fgraph)\n\u001b[0;32m--> 120\u001b[0m \u001b[38;5;28;01mreturn\u001b[39;00m \u001b[38;5;28;43mself\u001b[39;49m\u001b[38;5;241;43m.\u001b[39;49m\u001b[43mapply\u001b[49m\u001b[43m(\u001b[49m\u001b[43mfgraph\u001b[49m\u001b[43m,\u001b[49m\u001b[43m \u001b[49m\u001b[38;5;241;43m*\u001b[39;49m\u001b[43margs\u001b[49m\u001b[43m,\u001b[49m\u001b[43m \u001b[49m\u001b[38;5;241;43m*\u001b[39;49m\u001b[38;5;241;43m*\u001b[39;49m\u001b[43mkwargs\u001b[49m\u001b[43m)\u001b[49m\n",
      "File \u001b[0;32m~/miniconda3/envs/metal_102/lib/python3.9/site-packages/pytensor/graph/rewriting/basic.py:291\u001b[0m, in \u001b[0;36mSequentialGraphRewriter.apply\u001b[0;34m(self, fgraph)\u001b[0m\n\u001b[1;32m    289\u001b[0m nb_nodes_before \u001b[38;5;241m=\u001b[39m \u001b[38;5;28mlen\u001b[39m(fgraph\u001b[38;5;241m.\u001b[39mapply_nodes)\n\u001b[1;32m    290\u001b[0m t0 \u001b[38;5;241m=\u001b[39m time\u001b[38;5;241m.\u001b[39mperf_counter()\n\u001b[0;32m--> 291\u001b[0m sub_prof \u001b[38;5;241m=\u001b[39m \u001b[43mrewriter\u001b[49m\u001b[38;5;241;43m.\u001b[39;49m\u001b[43mapply\u001b[49m\u001b[43m(\u001b[49m\u001b[43mfgraph\u001b[49m\u001b[43m)\u001b[49m\n\u001b[1;32m    292\u001b[0m l\u001b[38;5;241m.\u001b[39mappend(\u001b[38;5;28mfloat\u001b[39m(time\u001b[38;5;241m.\u001b[39mperf_counter() \u001b[38;5;241m-\u001b[39m t0))\n\u001b[1;32m    293\u001b[0m sub_profs\u001b[38;5;241m.\u001b[39mappend(sub_prof)\n",
      "File \u001b[0;32m~/miniconda3/envs/metal_102/lib/python3.9/site-packages/pytensor/graph/rewriting/basic.py:2460\u001b[0m, in \u001b[0;36mEquilibriumGraphRewriter.apply\u001b[0;34m(self, fgraph, start_from)\u001b[0m\n\u001b[1;32m   2458\u001b[0m nb \u001b[38;5;241m=\u001b[39m change_tracker\u001b[38;5;241m.\u001b[39mnb_imported\n\u001b[1;32m   2459\u001b[0m t_rewrite \u001b[38;5;241m=\u001b[39m time\u001b[38;5;241m.\u001b[39mperf_counter()\n\u001b[0;32m-> 2460\u001b[0m sub_prof \u001b[38;5;241m=\u001b[39m \u001b[43mgrewrite\u001b[49m\u001b[38;5;241;43m.\u001b[39;49m\u001b[43mapply\u001b[49m\u001b[43m(\u001b[49m\u001b[43mfgraph\u001b[49m\u001b[43m)\u001b[49m\n\u001b[1;32m   2461\u001b[0m time_rewriters[grewrite] \u001b[38;5;241m+\u001b[39m\u001b[38;5;241m=\u001b[39m time\u001b[38;5;241m.\u001b[39mperf_counter() \u001b[38;5;241m-\u001b[39m t_rewrite\n\u001b[1;32m   2462\u001b[0m sub_profs\u001b[38;5;241m.\u001b[39mappend(sub_prof)\n",
      "File \u001b[0;32m~/miniconda3/envs/metal_102/lib/python3.9/site-packages/pytensor/graph/rewriting/basic.py:2037\u001b[0m, in \u001b[0;36mWalkingGraphRewriter.apply\u001b[0;34m(self, fgraph, start_from)\u001b[0m\n\u001b[1;32m   2035\u001b[0m \u001b[38;5;28;01melse\u001b[39;00m:\n\u001b[1;32m   2036\u001b[0m     node \u001b[38;5;241m=\u001b[39m q\u001b[38;5;241m.\u001b[39mpopleft()\n\u001b[0;32m-> 2037\u001b[0m \u001b[38;5;28;01mif\u001b[39;00m node \u001b[38;5;129;01mnot\u001b[39;00m \u001b[38;5;129;01min\u001b[39;00m \u001b[43mfgraph\u001b[49m\u001b[38;5;241;43m.\u001b[39;49m\u001b[43mapply_nodes\u001b[49m:\n\u001b[1;32m   2038\u001b[0m     \u001b[38;5;28;01mcontinue\u001b[39;00m\n\u001b[1;32m   2039\u001b[0m current_node \u001b[38;5;241m=\u001b[39m node\n",
      "\u001b[0;31mKeyboardInterrupt\u001b[0m: "
     ]
    }
   ],
   "source": [
    "\n",
    "\n",
    "# Define the PyMC model\n",
    "with pm.Model() as model:\n",
    "    # Priors\n",
    "    amplitude = pm.Uniform(\"amplitude\", lower=0, upper=10)\n",
    "    frequency = pm.Uniform(\"frequency\", lower=0, upper=1)\n",
    "    phase = pm.Uniform(\"phase\", lower=-np.pi, upper=np.pi)\n",
    "    offset = pm.Normal(\"offset\", mu=0, sigma=2)\n",
    "    print(\"Priors created\")\n",
    "    \n",
    "    # Add a noise parameter\n",
    "    sigma = pm.HalfNormal(\"sigma\", sigma=1)\n",
    "    \n",
    "    #run model\n",
    "    def model_me(amplitude, frequency, phase, offset):       \n",
    "        predicted_sine = make_sine_array(amp=amplitude, freq=frequency, phase=phase, offset=offset)\n",
    "        pred_ffts = find_dominant_frequencies(predicted_sine)\n",
    "        return pred_ffts\n",
    "\n",
    "    print(\"Model run\")\n",
    "    \n",
    "    # Likelihood (sampling distribution) of observations\n",
    "    Y_obs = pm.Normal(\"Y_obs\", mu=model_me(amplitude, frequency, phase, offset), \n",
    "                      sigma=sigma, observed=ffts)\n",
    "    \n",
    "    # Inference\n",
    "    print(\"Tracing\")\n",
    "    trace = pm.sample(100, tune=60, return_inferencedata=True)\n",
    "    print(\"Traces complete\")\n",
    "\n",
    "# Plot the results\n",
    "az.plot_trace(trace)\n",
    "plt.tight_layout()\n",
    "plt.show()\n",
    "\n",
    "# Print the summary of the posterior\n",
    "print(az.summary(trace, var_names=[\"amplitude\", \"frequency\", \"phase\", \"offset\", \"sigma\"]))\n",
    "\n",
    "#\n",
    "# Calculate and print the true parameters\n",
    "print(f\"True parameters: amplitude={true_amplitude}, frequency={true_frequency}, phase={true_phase}, offset={true_offset}\")"
   ]
  },
  {
   "cell_type": "code",
   "execution_count": null,
   "id": "5673023f-4e3e-4857-9030-ffa57b453137",
   "metadata": {},
   "outputs": [],
   "source": [
    " Plot the fitted sine wave\n",
    "x = np.linspace(0, 10, points)\n",
    "\n",
    "plt.figure(figsize=(10, 6))\n",
    "plt.scatter(x, real_data, color='blue', alpha=0.5, label='Observed data')\n",
    "#plt.plot(x, y_true, color='green', label='True sine wave')\n",
    "\n",
    "# Plot multiple posterior samples\n",
    "post_samples = trace.posterior.stack(samples=(\"chain\", \"draw\"))\n",
    "for i in range(100):\n",
    "    y_fit = (post_samples.amplitude[i].values * \n",
    "             np.sin(2 * np.pi * post_samples.frequency[i].values * x + post_samples.phase[i].values) + \n",
    "             post_samples.offset[i].values)\n",
    "    plt.plot(x, y_fit, color='red', alpha=0.1)\n",
    "\n",
    "plt.plot([], [], color='red', alpha=0.5, label='Posterior samples')\n",
    "\n",
    "plt.legend()\n",
    "plt.xlabel('x')\n",
    "plt.ylabel('y')\n",
    "plt.title('Sine Wave Fitting with PyMC (Improved)')\n",
    "plt.show()\n"
   ]
  },
  {
   "cell_type": "code",
   "execution_count": 33,
   "id": "b2786e11-c443-4ca5-ad29-506e35bbaf36",
   "metadata": {},
   "outputs": [
    {
     "ename": "ValueError",
     "evalue": "not enough values to unpack (expected 2, got 1)",
     "output_type": "error",
     "traceback": [
      "\u001b[0;31m---------------------------------------------------------------------------\u001b[0m",
      "\u001b[0;31mValueError\u001b[0m                                Traceback (most recent call last)",
      "Cell \u001b[0;32mIn[33], line 40\u001b[0m\n\u001b[1;32m     37\u001b[0m wave \u001b[38;5;241m=\u001b[39m pm\u001b[38;5;241m.\u001b[39mDeterministic(\u001b[38;5;124m\"\u001b[39m\u001b[38;5;124mwave\u001b[39m\u001b[38;5;124m\"\u001b[39m, amplitude \u001b[38;5;241m*\u001b[39m pt\u001b[38;5;241m.\u001b[39msin(\u001b[38;5;241m2\u001b[39m \u001b[38;5;241m*\u001b[39m np\u001b[38;5;241m.\u001b[39mpi \u001b[38;5;241m*\u001b[39m frequency \u001b[38;5;241m*\u001b[39m x \u001b[38;5;241m+\u001b[39m phase) \u001b[38;5;241m+\u001b[39m offset)\n\u001b[1;32m     39\u001b[0m \u001b[38;5;66;03m# Use the custom FFT in a Deterministic\u001b[39;00m\n\u001b[0;32m---> 40\u001b[0m modeled_freq \u001b[38;5;241m=\u001b[39m pm\u001b[38;5;241m.\u001b[39mDeterministic(\u001b[38;5;124m\"\u001b[39m\u001b[38;5;124mmodeled_freq\u001b[39m\u001b[38;5;124m\"\u001b[39m, \u001b[43mfind_dominant_frequencies\u001b[49m\u001b[43m(\u001b[49m\u001b[43mwave\u001b[49m\u001b[43m,\u001b[49m\u001b[43m \u001b[49m\u001b[43msampling_rate\u001b[49m\u001b[38;5;241;43m=\u001b[39;49m\u001b[38;5;241;43m100\u001b[39;49m\u001b[43m)\u001b[49m)\n\u001b[1;32m     42\u001b[0m Y_obs \u001b[38;5;241m=\u001b[39m pm\u001b[38;5;241m.\u001b[39mNormal(\u001b[38;5;124m\"\u001b[39m\u001b[38;5;124mY_obs\u001b[39m\u001b[38;5;124m\"\u001b[39m, \n\u001b[1;32m     43\u001b[0m                   mu\u001b[38;5;241m=\u001b[39mmodeled_freq, \n\u001b[1;32m     44\u001b[0m                   sigma\u001b[38;5;241m=\u001b[39msigma, \n\u001b[1;32m     45\u001b[0m                   observed\u001b[38;5;241m=\u001b[39mobserved_freqs)\n\u001b[1;32m     47\u001b[0m \u001b[38;5;66;03m# Inference with reduced number of samples\u001b[39;00m\n",
      "Cell \u001b[0;32mIn[2], line 15\u001b[0m, in \u001b[0;36mfind_dominant_frequencies\u001b[0;34m(data, sampling_rate)\u001b[0m\n\u001b[1;32m      4\u001b[0m \u001b[38;5;28;01mdef\u001b[39;00m \u001b[38;5;21mfind_dominant_frequencies\u001b[39m(data, sampling_rate\u001b[38;5;241m=\u001b[39m\u001b[38;5;241m100\u001b[39m):\n\u001b[1;32m      5\u001b[0m \u001b[38;5;250m    \u001b[39m\u001b[38;5;124;03m\"\"\"\u001b[39;00m\n\u001b[1;32m      6\u001b[0m \u001b[38;5;124;03m    Find the dominant frequency for each sine wave in the input data.\u001b[39;00m\n\u001b[1;32m      7\u001b[0m \u001b[38;5;124;03m    \u001b[39;00m\n\u001b[0;32m   (...)\u001b[0m\n\u001b[1;32m     13\u001b[0m \u001b[38;5;124;03m    numpy.ndarray: 1D array of dominant frequencies for each sine wave\u001b[39;00m\n\u001b[1;32m     14\u001b[0m \u001b[38;5;124;03m    \"\"\"\u001b[39;00m\n\u001b[0;32m---> 15\u001b[0m     n_waves, n_samples \u001b[38;5;241m=\u001b[39m data\u001b[38;5;241m.\u001b[39mshape\n\u001b[1;32m     17\u001b[0m     \u001b[38;5;66;03m# Compute the FFT for each row\u001b[39;00m\n\u001b[1;32m     18\u001b[0m     fft_results \u001b[38;5;241m=\u001b[39m np\u001b[38;5;241m.\u001b[39mabs(fft(data, axis\u001b[38;5;241m=\u001b[39m\u001b[38;5;241m1\u001b[39m))\n",
      "\u001b[0;31mValueError\u001b[0m: not enough values to unpack (expected 2, got 1)"
     ]
    }
   ],
   "source": [
    "import numpy as np\n",
    "from scipy.fft import fft, fftfreq\n",
    "import pymc as pm\n",
    "import arviz as az\n",
    "import matplotlib.pyplot as plt\n",
    "import pytensor\n",
    "import pytensor.tensor as pt\n",
    "\n",
    "points = 100  # Samples per sine wave\n",
    "n_waves = 20  # Reduced number of waves\n",
    "\n",
    "def make_sine(amp, freq, phase, offset, points=100, noise=0):\n",
    "    x = np.linspace(0, 10, points)\n",
    "    sine = amp * np.sin(2 * np.pi * freq * x + phase) + offset\n",
    "    if noise > 0:\n",
    "        sine += np.random.normal(0, noise, size=len(sine))\n",
    "    return sine\n",
    "\n",
    "# Generate observed data\n",
    "true_amp, true_freq, true_phase, true_offset = 1.0, 1.0, 0.0, 0.5\n",
    "observed_sines = np.array([make_sine(true_amp, true_freq, true_phase, true_offset, noise=0.1) for _ in range(n_waves)])\n",
    "observed_freqs = find_dominant_frequencies(observed_sines)\n",
    "\n",
    "# Define the PyMC model\n",
    "with pm.Model() as model:\n",
    "    # Priors\n",
    "    amplitude = pm.Uniform(\"amplitude\", lower=0, upper=10)\n",
    "    frequency = pm.Uniform(\"frequency\", lower=0, upper=5)\n",
    "    phase = pm.Uniform(\"phase\", lower=-np.pi, upper=np.pi)\n",
    "    offset = pm.Normal(\"offset\", mu=0, sigma=2)\n",
    "    sigma = pm.HalfNormal(\"sigma\", sigma=1)\n",
    "\n",
    "    # Define x outside the Deterministic\n",
    "    x = np.linspace(0, 10, points)\n",
    "\n",
    "    # Use pm.Deterministic to create the wave\n",
    "    wave = pm.Deterministic(\"wave\", amplitude * pt.sin(2 * np.pi * frequency * x + phase) + offset)\n",
    "\n",
    "    # Use the custom FFT in a Deterministic\n",
    "    modeled_freq = pm.Deterministic(\"modeled_freq\", find_dominant_frequencies(wave, sampling_rate=100))\n",
    "\n",
    "    Y_obs = pm.Normal(\"Y_obs\", \n",
    "                      mu=modeled_freq, \n",
    "                      sigma=sigma, \n",
    "                      observed=observed_freqs)\n",
    "\n",
    "    # Inference with reduced number of samples\n",
    "    trace = pm.sample(500, tune=500, return_inferencedata=True)\n",
    "\n",
    "# Plot the results\n",
    "az.plot_trace(trace)\n",
    "plt.tight_layout()\n",
    "plt.show()\n",
    "\n",
    "# Print the summary of the posterior\n",
    "print(az.summary(trace, var_names=[\"amplitude\", \"frequency\", \"phase\", \"offset\", \"sigma\", \"modeled_freq\"]))\n",
    "\n",
    "# Print the true parameters\n",
    "print(f\"True parameters: amplitude={true_amp}, frequency={true_freq}, phase={true_phase}, offset={true_offset}\")"
   ]
  },
  {
   "cell_type": "code",
   "execution_count": 18,
   "id": "dd5b97a6-007c-4cb8-8e70-154e211f2b36",
   "metadata": {},
   "outputs": [
    {
     "data": {
      "text/plain": [
       "array([10., 10., 10., 10., 10., 10., 10., 10., 10., 10., 10., 10., 10.,\n",
       "       10., 10., 10., 10., 10., 10., 10.])"
      ]
     },
     "execution_count": 18,
     "metadata": {},
     "output_type": "execute_result"
    }
   ],
   "source": [
    "find_dominant_frequencies(observed_sines)"
   ]
  },
  {
   "cell_type": "code",
   "execution_count": 22,
   "id": "db2b7fab-8ec9-4c52-94a7-599e66a56715",
   "metadata": {},
   "outputs": [
    {
     "data": {
      "text/plain": [
       "Shape.0"
      ]
     },
     "execution_count": 22,
     "metadata": {},
     "output_type": "execute_result"
    }
   ],
   "source": [
    "wave.shape"
   ]
  },
  {
   "cell_type": "code",
   "execution_count": 23,
   "id": "4cf7ec4d-dcf0-434f-95d2-71d08a48e989",
   "metadata": {},
   "outputs": [
    {
     "data": {
      "text/plain": [
       "pytensor.tensor.variable.TensorVariable"
      ]
     },
     "execution_count": 23,
     "metadata": {},
     "output_type": "execute_result"
    }
   ],
   "source": [
    "type(wave)"
   ]
  },
  {
   "cell_type": "code",
   "execution_count": 32,
   "id": "e36c32e6-e898-43d2-b506-e2fcf9aaa206",
   "metadata": {},
   "outputs": [
    {
     "ename": "ValueError",
     "evalue": "not enough values to unpack (expected 2, got 1)",
     "output_type": "error",
     "traceback": [
      "\u001b[0;31m---------------------------------------------------------------------------\u001b[0m",
      "\u001b[0;31mValueError\u001b[0m                                Traceback (most recent call last)",
      "Cell \u001b[0;32mIn[32], line 3\u001b[0m\n\u001b[1;32m      1\u001b[0m \u001b[38;5;28;01mwith\u001b[39;00m model:\n\u001b[1;32m      2\u001b[0m     wave_test \u001b[38;5;241m=\u001b[39m wave\u001b[38;5;241m.\u001b[39meval({amplitude: \u001b[38;5;241m1.0\u001b[39m, frequency: \u001b[38;5;241m1.0\u001b[39m, phase: \u001b[38;5;241m0.0\u001b[39m, offset: \u001b[38;5;241m0.5\u001b[39m})\n\u001b[0;32m----> 3\u001b[0m     freq_test \u001b[38;5;241m=\u001b[39m \u001b[43mfind_dominant_frequencies\u001b[49m\u001b[43m(\u001b[49m\u001b[43mwave\u001b[49m\u001b[43m)\u001b[49m\n\u001b[1;32m      4\u001b[0m     \u001b[38;5;28mprint\u001b[39m(\u001b[38;5;124mf\u001b[39m\u001b[38;5;124m\"\u001b[39m\u001b[38;5;124mTest wave shape: \u001b[39m\u001b[38;5;132;01m{\u001b[39;00mwave_test\u001b[38;5;241m.\u001b[39mshape\u001b[38;5;132;01m}\u001b[39;00m\u001b[38;5;124m\"\u001b[39m)\n\u001b[1;32m      5\u001b[0m     \u001b[38;5;28mprint\u001b[39m(\u001b[38;5;124mf\u001b[39m\u001b[38;5;124m\"\u001b[39m\u001b[38;5;124mFirst few values of test wave: \u001b[39m\u001b[38;5;132;01m{\u001b[39;00mwave_test[:\u001b[38;5;241m5\u001b[39m]\u001b[38;5;132;01m}\u001b[39;00m\u001b[38;5;124m\"\u001b[39m)\n",
      "Cell \u001b[0;32mIn[2], line 15\u001b[0m, in \u001b[0;36mfind_dominant_frequencies\u001b[0;34m(data, sampling_rate)\u001b[0m\n\u001b[1;32m      4\u001b[0m \u001b[38;5;28;01mdef\u001b[39;00m \u001b[38;5;21mfind_dominant_frequencies\u001b[39m(data, sampling_rate\u001b[38;5;241m=\u001b[39m\u001b[38;5;241m100\u001b[39m):\n\u001b[1;32m      5\u001b[0m \u001b[38;5;250m    \u001b[39m\u001b[38;5;124;03m\"\"\"\u001b[39;00m\n\u001b[1;32m      6\u001b[0m \u001b[38;5;124;03m    Find the dominant frequency for each sine wave in the input data.\u001b[39;00m\n\u001b[1;32m      7\u001b[0m \u001b[38;5;124;03m    \u001b[39;00m\n\u001b[0;32m   (...)\u001b[0m\n\u001b[1;32m     13\u001b[0m \u001b[38;5;124;03m    numpy.ndarray: 1D array of dominant frequencies for each sine wave\u001b[39;00m\n\u001b[1;32m     14\u001b[0m \u001b[38;5;124;03m    \"\"\"\u001b[39;00m\n\u001b[0;32m---> 15\u001b[0m     n_waves, n_samples \u001b[38;5;241m=\u001b[39m data\u001b[38;5;241m.\u001b[39mshape\n\u001b[1;32m     17\u001b[0m     \u001b[38;5;66;03m# Compute the FFT for each row\u001b[39;00m\n\u001b[1;32m     18\u001b[0m     fft_results \u001b[38;5;241m=\u001b[39m np\u001b[38;5;241m.\u001b[39mabs(fft(data, axis\u001b[38;5;241m=\u001b[39m\u001b[38;5;241m1\u001b[39m))\n",
      "\u001b[0;31mValueError\u001b[0m: not enough values to unpack (expected 2, got 1)"
     ]
    }
   ],
   "source": [
    "with model:\n",
    "    wave_test = wave.eval({amplitude: 1.0, frequency: 1.0, phase: 0.0, offset: 0.5})\n",
    "    freq_test = find_dominant_frequencies(wave)\n",
    "    print(f\"Test wave shape: {wave_test.shape}\")\n",
    "    print(f\"First few values of test wave: {wave_test[:5]}\")\n",
    "fft_results = np.abs(fft(wave_test))\n",
    "print(\"res\",freq_test)"
   ]
  },
  {
   "cell_type": "code",
   "execution_count": null,
   "id": "b2c1bb45-57fc-4a15-a55a-263d659a79ca",
   "metadata": {},
   "outputs": [],
   "source": []
  }
 ],
 "metadata": {
  "kernelspec": {
   "display_name": "Python 3 (ipykernel)",
   "language": "python",
   "name": "python3"
  },
  "language_info": {
   "codemirror_mode": {
    "name": "ipython",
    "version": 3
   },
   "file_extension": ".py",
   "mimetype": "text/x-python",
   "name": "python",
   "nbconvert_exporter": "python",
   "pygments_lexer": "ipython3",
   "version": "3.9.19"
  }
 },
 "nbformat": 4,
 "nbformat_minor": 5
}
