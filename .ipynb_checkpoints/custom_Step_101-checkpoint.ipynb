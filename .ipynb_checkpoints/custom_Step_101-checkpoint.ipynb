{
 "cells": [
  {
   "cell_type": "code",
   "execution_count": 134,
   "id": "67eee361-e94f-414b-bf7d-177999894e27",
   "metadata": {},
   "outputs": [
    {
     "name": "stdout",
     "output_type": "stream",
     "text": [
      "5.12.0\n"
     ]
    }
   ],
   "source": [
    "#Runs successfully on MBP 2024 metal_102 conda environment.\n",
    "import numpy as np\n",
    "import torch\n",
    "import torch.nn as nn\n",
    "import pymc as pm\n",
    "from pymc.util import get_value_vars_from_user_vars\n",
    "import arviz as az\n",
    "import pytensor.tensor as tt\n",
    "from pytensor import scan\n",
    "from tqdm import tqdm\n",
    "import matplotlib.pyplot as plt\n",
    "from IPython.display import clear_output\n",
    "# Suppress PyTorch warnings\n",
    "import os\n",
    "os.environ['CUDA_VISIBLE_DEVICES'] = '-1'  # Use CPU instead of GPU\n",
    "print(pm.__version__)"
   ]
  },
  {
   "cell_type": "code",
   "execution_count": 135,
   "id": "a724510b-9a18-4fbc-bd6d-b2c790f850c0",
   "metadata": {},
   "outputs": [],
   "source": [
    "# Define constants\n",
    "SIZE = 200\n",
    "T=200\n",
    "dt=0.1\n",
    "NUM_SAMPLES = 100\n",
    "EPOCHS = 100"
   ]
  },
  {
   "cell_type": "code",
   "execution_count": 136,
   "id": "1e800557-bfd1-4d50-b970-915eafc03d78",
   "metadata": {},
   "outputs": [],
   "source": [
    "import pymc as pm\n",
    "import numpy as np\n",
    "import torch\n",
    "from pymc.step_methods.metropolis import Metropolis\n",
    "from pymc.step_methods.arraystep import ArrayStepShared, ArrayStep, metrop_select\n",
    "\"\"\"\n",
    "class CustomGANStep(ArrayStepShared):\n",
    "    def __init__(self, vars=None, model=None, discriminator=None, **kwargs):\n",
    "        self.model = model or pm.modelcontext(None)\n",
    "        self.discriminator = discriminator\n",
    "        \n",
    "        # Initialize superclass\n",
    "        super().__init__(vars, shared_globals=kwargs.get('shared_globals', {}))\n",
    "\n",
    "        # Create mappings between variable names and their indices\n",
    "        self.var_indices = {var.name: i for i, var in enumerate(self.vars)}\n",
    "        \n",
    "        # Initialize step sizes (you may want to tune these)\n",
    "        self.step_sizes = {var.name: 0.01 for var in self.vars}\n",
    "\n",
    "    def astep(self, q0):\n",
    "        # Current parameter values\n",
    "        current_params = {var.name: q0[i] for i, var in enumerate(self.vars)}\n",
    "        \n",
    "        # Propose new parameters\n",
    "        proposed_params = self.propose(current_params)\n",
    "        \n",
    "        # Generate synthetic data with proposed parameters\n",
    "        synthetic_data = self.generate_synthetic_data(proposed_params)\n",
    "        \n",
    "        # Get discriminator score for proposed data\n",
    "        disc_score = self.get_discriminator_score(synthetic_data)\n",
    "        \n",
    "        # Compute acceptance probability\n",
    "        accept_prob = np.exp(disc_score - self.get_discriminator_score(self.generate_synthetic_data(current_params)))\n",
    "        \n",
    "        # Accept or reject\n",
    "        if np.random.random() < accept_prob:\n",
    "            return np.array([proposed_params[var.name] for var in self.vars])\n",
    "        else:\n",
    "            return q0\n",
    "\n",
    "    def propose(self, current_params):\n",
    "        # Simple random walk proposal\n",
    "        return {name: value + np.random.normal(0, self.step_sizes[name]) \n",
    "                for name, value in current_params.items()}\n",
    "\n",
    "    def generate_synthetic_data(self, params):\n",
    "        # Implement this method to generate synthetic data using the given parameters\n",
    "        # This should use your pymc_sim_channel function\n",
    "        return pymc_sim_channel([params[var.name] for var in self.vars], T, dt, source=\"torch\")\n",
    "\n",
    "    def get_discriminator_score(self, data):\n",
    "        # Convert data to appropriate format for your discriminator\n",
    "        data_tensor = torch.tensor(data).float().unsqueeze(0)  # Add batch dimension\n",
    "        \n",
    "        # Get discriminator output\n",
    "        with torch.no_grad():\n",
    "            score = self.discriminator(data_tensor).item()\n",
    "        \n",
    "        return score\"\"\"\n",
    "\n",
    "\n",
    "class CustomGANStep(ArrayStep):\n",
    "    def __init__(self, vars=None, model=None, discriminator=None):\n",
    "        self.model = model or pm.modelcontext(None)\n",
    "        self.discriminator = discriminator\n",
    "        \n",
    "        # Get the actual value variables from the model\n",
    "        self.vars = get_value_vars_from_user_vars(vars, self.model)\n",
    "        \n",
    "        # Define the logp function\n",
    "        def logp(x):\n",
    "            for var, value in zip(self.vars, x):\n",
    "                var.set_value(value)\n",
    "            return self.model.logp()\n",
    "\n",
    "        # Initialize superclass\n",
    "        super().__init__(self.vars, [logp])\n",
    "\n",
    "        # Create mappings between variable names and their indices\n",
    "        self.var_indices = {var.name: i for i, var in enumerate(self.vars)}\n",
    "        \n",
    "        # Initialize step sizes (you may want to tune these)\n",
    "        self.step_sizes = {var.name: 0.01 for var in self.vars}\n",
    "\n",
    "    def astep(self, q0):\n",
    "        # Current parameter values\n",
    "        current_params = {var.name: q0[i] for i, var in enumerate(self.vars)}\n",
    "        \n",
    "        # Propose new parameters\n",
    "        proposed_params = self.propose(current_params)\n",
    "        \n",
    "        # Generate synthetic data with proposed parameters\n",
    "        synthetic_data = self.generate_synthetic_data(proposed_params)\n",
    "        \n",
    "        # Get discriminator score for proposed data\n",
    "        disc_score = self.get_discriminator_score(synthetic_data)\n",
    "        \n",
    "        # Compute acceptance probability\n",
    "        accept_prob = np.exp(disc_score - self.get_discriminator_score(self.generate_synthetic_data(current_params)))\n",
    "        \n",
    "        # Accept or reject\n",
    "        if np.random.random() < accept_prob:\n",
    "            return np.array([proposed_params[var.name] for var in self.vars])\n",
    "        else:\n",
    "            return q0\n",
    "\n",
    "    def propose(self, current_params):\n",
    "        # Simple random walk proposal\n",
    "        return {name: value + np.random.normal(0, self.step_sizes[name]) \n",
    "                for name, value in current_params.items()}\n",
    "\n",
    "    def generate_synthetic_data(self, params):\n",
    "        # Implement this method to generate synthetic data using the given parameters\n",
    "        # This should use your pymc_sim_channel function\n",
    "        return pymc_sim_channel([params[var.name] for var in self.vars], T, dt, source=\"torch\")\n",
    "\n",
    "    def get_discriminator_score(self, data):\n",
    "        # Convert data to appropriate format for your discriminator\n",
    "        data_tensor = torch.tensor(data).float().unsqueeze(0)  # Add batch dimension\n",
    "        \n",
    "        # Get discriminator output\n",
    "        with torch.no_grad():\n",
    "            score = self.discriminator(data_tensor).item()\n",
    "        \n",
    "        return score"
   ]
  },
  {
   "cell_type": "code",
   "execution_count": 137,
   "id": "c16923df-9806-4d09-bb99-56cb1bdf0e77",
   "metadata": {},
   "outputs": [],
   "source": [
    "# Define the discriminator model\n",
    "class Discriminator(nn.Module):\n",
    "    def __init__(self):\n",
    "        super().__init__()\n",
    "        self.model = nn.Sequential(\n",
    "            nn.Conv1d(2, 64, kernel_size=5, stride=2, padding=2),\n",
    "            nn.LeakyReLU(),\n",
    "            nn.Conv1d(64, 128, kernel_size=5, stride=2, padding=2),\n",
    "            nn.LeakyReLU(),\n",
    "            nn.Flatten(),\n",
    "            nn.Linear(128 * (SIZE // 4), 1)\n",
    "        )\n",
    "\n",
    "    def forward(self, x):\n",
    "        return self.model(x.permute(0, 2, 1))"
   ]
  },
  {
   "cell_type": "code",
   "execution_count": 138,
   "id": "e281e5ee-a613-4b77-afe0-d6bf5df29868",
   "metadata": {},
   "outputs": [],
   "source": [
    "# Loss function for the discriminator\n",
    "def discriminator_loss(real_output, fake_output):\n",
    "    real_loss = nn.BCEWithLogitsLoss()(real_output, torch.ones_like(real_output))\n",
    "    fake_loss = nn.BCEWithLogitsLoss()(fake_output, torch.zeros_like(fake_output))\n",
    "    return real_loss + fake_loss"
   ]
  },
  {
   "cell_type": "code",
   "execution_count": 139,
   "id": "19cf1ca4-bb7a-42bc-8c4a-a1489c565fc7",
   "metadata": {},
   "outputs": [],
   "source": [
    "# Create and compile the discriminator\n",
    "discriminator = Discriminator()\n",
    "discriminator_optimizer = torch.optim.Adam(discriminator.parameters(), lr=1e-4)"
   ]
  },
  {
   "cell_type": "code",
   "execution_count": 140,
   "id": "72c29f7d-bdbf-47d1-b114-a721b06dec91",
   "metadata": {},
   "outputs": [],
   "source": [
    "import pytensor.tensor as tt\n",
    "from pytensor.scan import scan\n",
    "from pytensor.tensor.random.utils import RandomStream\n",
    "import torch\n",
    "import numpy as np\n",
    "\n",
    "def pymc_sim_channel(params, T, dt, source=\"torch\"):\n",
    "    kc12, kc21, Fnoise, scale, offset, kco1, koc2, ko12, ko21 = params\n",
    "    eps = 1e-10  # Small constant to avoid zero probabilities\n",
    "    if source == \"pymc\":\n",
    "        zero = tt.constant(0.0)\n",
    "        one = tt.constant(1.0)\n",
    "        \n",
    "        # Convert parameters to PyTensor tensors\n",
    "        \"\"\"\n",
    "        kc12, kc21, kco1, koc2, ko12, ko21, Fnoise, scale = map(tt.as_tensor_variable, \n",
    "                                                                        [kc12, kc21, kco1, koc2, ko12, ko21, Fnoise, scale])\n",
    "\n",
    "        \"\"\"\n",
    "        kc12, kc21, kco1, koc2, ko12, ko21, Fnoise, scale = map(lambda x: tt.maximum(tt.as_tensor_variable(x), eps), \n",
    "                                                                [kc12, kc21, kco1, koc2, ko12, ko21, Fnoise, scale])\n",
    "        # Create transition matrix\n",
    "        row1 = tt.stack([1-kc12, kc12, zero, zero])\n",
    "        row2 = tt.stack([kc21, 1-kc21-kco1, kco1, zero])\n",
    "        row3 = tt.stack([zero, koc2, 1-koc2-ko12, ko12])\n",
    "        row4 = tt.stack([zero, zero, ko21, 1-ko21])\n",
    "        transition_matrix = tt.stack([row1, row2, row3, row4])\n",
    "\n",
    "        transition_matrix = tt.maximum(transition_matrix, eps)\n",
    "        row_sums = transition_matrix.sum(axis=1, keepdims=True)\n",
    "        transition_matrix = transition_matrix / row_sums\n",
    "        \n",
    "        # Create a RandomStream for managing the RNG\n",
    "        srng = RandomStream()\n",
    "        \n",
    "        # Generate random initial state\n",
    "        initial_state = srng.categorical(tt.ones(4) / 4, size=(1,))\n",
    "        \n",
    "        def step(state, transition_probs):\n",
    "            new_state = srng.categorical(transition_probs[state[0]], size=(1,))\n",
    "            return new_state\n",
    "        \n",
    "        states, _ = scan(\n",
    "            fn=step,\n",
    "            outputs_info=initial_state,\n",
    "            non_sequences=transition_matrix,\n",
    "            n_steps=SIZE-1\n",
    "        )\n",
    "        \n",
    "        states = tt.concatenate([initial_state, states.flatten()])\n",
    "        \n",
    "        # Convert states to channels\n",
    "        channels = tt.switch(states < 2, zero, one)\n",
    "        \n",
    "        # Generate noise\n",
    "        noise = srng.normal(0, Fnoise, size=(SIZE,))\n",
    "        \n",
    "        # Combine channels and noise\n",
    "        result = tt.stack([channels, channels * scale + offset + noise], axis=-1)\n",
    "        \n",
    "        # Return the PyTensor variable directly\n",
    "        return result\n",
    "\n",
    "\n",
    "    else:\n",
    "        # Convert to PyTorch tensors\n",
    "        kc12, kc21, kco1, koc2, ko12, ko21, Fnoise, scale = map(lambda x: torch.tensor(max(x, eps)), \n",
    "                                                                        [kc12, kc21, kco1, koc2, ko12, ko21, Fnoise, scale])\n",
    "        \n",
    "        # Create transition matrix\n",
    "        row1 = torch.tensor([1-kc12, kc12, 0, 0])\n",
    "        row2 = torch.tensor([kc21, 1-kc21-kco1, kco1, 0])\n",
    "        row3 = torch.tensor([0, koc2, 1-koc2-ko12, ko12])\n",
    "        row4 = torch.tensor([0, 0, ko21, 1-ko21])\n",
    "                \n",
    "        transition_matrix = torch.stack([row1, row2, row3, row4])\n",
    "        \n",
    "        # Ensure non-negative values and add small constant\n",
    "        transition_matrix = torch.clamp(transition_matrix, min=eps)\n",
    "        \n",
    "        # Normalize rows to sum to 1\n",
    "        row_sums = transition_matrix.sum(dim=1, keepdim=True)\n",
    "        transition_matrix = transition_matrix / row_sums\n",
    "        \n",
    "        def transition_fn(state):\n",
    "            probs = transition_matrix[state]\n",
    "            return torch.distributions.Categorical(probs=probs).sample()\n",
    "        \n",
    "        initial_probs = torch.ones(4) / 4  # Equal probability for all initial states\n",
    "        initial_distribution = torch.distributions.Categorical(probs=initial_probs)\n",
    "        \n",
    "        states = [initial_distribution.sample().item()]\n",
    "        \n",
    "        for _ in range(SIZE - 1):\n",
    "            states.append(transition_fn(states[-1]).item())\n",
    "        \n",
    "        channels = torch.tensor(states)\n",
    "        channels = torch.where(channels < 2, torch.zeros_like(channels), torch.ones_like(channels))\n",
    "        noise = torch.normal(0, Fnoise, (SIZE,))\n",
    "        \n",
    "        res = torch.stack([channels, channels * scale + offset + noise], axis=-1)\n",
    "        return res"
   ]
  },
  {
   "cell_type": "code",
   "execution_count": 141,
   "id": "19e38a32-c1b7-4602-a3b2-62aa4090a110",
   "metadata": {},
   "outputs": [
    {
     "data": {
      "text/plain": [
       "Text(0.5, 1.0, 'torch sim Channel Data')"
      ]
     },
     "execution_count": 141,
     "metadata": {},
     "output_type": "execute_result"
    },
    {
     "data": {
      "image/png": "[encoded data removed]",
      "text/plain": [
       "<Figure size 1200x600 with 1 Axes>"
      ]
     },
     "metadata": {},
     "output_type": "display_data"
    }
   ],
   "source": [
    "kc12=0.1\n",
    "kc21=2\n",
    "Fnoise=0.01\n",
    "scale=0.25\n",
    "offset=-0.4\n",
    "kco1=0.5\n",
    "kco2=0.25\n",
    "ko12=1\n",
    "ko21=2 \n",
    "orig_params=[kc12,kc21,Fnoise,scale, offset,kco1,kco2,ko12,ko21]\n",
    "plt.figure(figsize=(12, 6))\n",
    "plt.plot(pymc_sim_channel(orig_params, T, dt))\n",
    "plt.title('torch sim Channel Data')"
   ]
  },
  {
   "cell_type": "code",
   "execution_count": 142,
   "id": "143fcf03-3e7d-4c47-bcda-b330a29c307f",
   "metadata": {},
   "outputs": [],
   "source": [
    "real_data = torch.stack([pymc_sim_channel(orig_params, T, dt) for _ in range(NUM_SAMPLES)], dim=0)"
   ]
  },
  {
   "cell_type": "code",
   "execution_count": 143,
   "id": "ea34273b-3fc4-4fd4-8d48-c31edf50865b",
   "metadata": {},
   "outputs": [
    {
     "name": "stderr",
     "output_type": "stream",
     "text": [
      "/var/folders/_n/b_grcm9j7pd5hrdkdnkl728m0000gn/T/ipykernel_29797/4035828198.py:42: UserWarning: The effect of Potentials on other parameters is ignored during prior predictive sampling. This is likely to lead to invalid or biased predictive samples.\n",
      "  prior_predictive = pm.sample_prior_predictive(samples=1000)\n",
      "Sampling: [Fnoise, kc12, kc21, kco1, ko12, ko21, koc2, offset, scale]\n"
     ]
    },
    {
     "name": "stdout",
     "output_type": "stream",
     "text": [
      "Model structure:\n",
      "kc21: TensorVariable\n",
      "  Potential\n",
      "kc12: TensorVariable\n",
      "  Potential\n",
      "kco1: TensorVariable\n",
      "  Potential\n",
      "koc2: TensorVariable\n",
      "  Potential\n",
      "ko12: TensorVariable\n",
      "  Potential\n",
      "ko21: TensorVariable\n",
      "  Potential\n",
      "Fnoise: TensorVariable\n",
      "  Potential\n",
      "scale: TensorVariable\n",
      "  Potential\n",
      "offset: TensorVariable\n",
      "  Potential\n",
      "discriminator_probs: TensorSharedVariable\n",
      "  Potential\n",
      "likelihood: TensorVariable\n",
      "  Potential\n",
      "\n",
      "Random draw from prior:\n",
      "kc12: mean = 0.2868, std = 0.1572\n",
      "koc2: mean = 0.2934, std = 0.1593\n",
      "kc21: mean = 0.2875, std = 0.1607\n",
      "kco1: mean = 0.2909, std = 0.1575\n",
      "Fnoise: mean = 0.7956, std = 0.5905\n",
      "ko12: mean = 0.2841, std = 0.1604\n",
      "ko21: mean = 0.2895, std = 0.1618\n",
      "offset: mean = -0.0589, std = 1.0210\n",
      "scale: mean = 0.8043, std = 0.6066\n",
      "\n",
      "Prior distributions:\n"
     ]
    },
    {
     "data": {
      "image/png": "[encoded data removed]",
      "text/plain": [
       "<Figure size 1500x1500 with 9 Axes>"
      ]
     },
     "metadata": {},
     "output_type": "display_data"
    },
    {
     "name": "stdout",
     "output_type": "stream",
     "text": [
      "\n",
      "Model created successfully!\n"
     ]
    }
   ],
   "source": [
    "import pymc as pm\n",
    "import pytensor.tensor as tt\n",
    "import numpy as np\n",
    "import arviz as az\n",
    "import matplotlib.pyplot as plt\n",
    "\n",
    "def create_model(T, dt, NUM_SAMPLES):\n",
    "    with pm.Model() as model:\n",
    "        # Priors for parameters (using transformed distributions to ensure valid ranges)\n",
    "        kc21 = pm.Beta('kc21', alpha=2, beta=5)\n",
    "        kc12 = pm.Beta('kc12', alpha=2, beta=5)\n",
    "        kco1 = pm.Beta('kco1', alpha=2, beta=5)\n",
    "        koc2 = pm.Beta('koc2', alpha=2, beta=5)\n",
    "        ko12 = pm.Beta('ko12', alpha=2, beta=5)\n",
    "        ko21 = pm.Beta('ko21', alpha=2, beta=5)\n",
    "        Fnoise = pm.HalfNormal('Fnoise', sigma=1)\n",
    "        scale = pm.HalfNormal('scale', sigma=1)\n",
    "        offset = pm.Normal('offset', mu=0, sigma=1)\n",
    "\n",
    "        # Placeholder for discriminator probabilities\n",
    "        discriminator_probs = pm.MutableData('discriminator_probs', np.ones(NUM_SAMPLES) * 0.5)\n",
    "\n",
    "        # Add a small epsilon to avoid log(0) or log(1)\n",
    "        epsilon = 1e-7\n",
    "        safe_probs = tt.clip(discriminator_probs, epsilon, 1 - epsilon)\n",
    "\n",
    "        # Likelihood based on discriminator probabilities\n",
    "        likelihood = pm.Potential('likelihood', tt.sum(tt.log(safe_probs)))\n",
    "\n",
    "        # Debugging information\n",
    "        print(\"Model structure:\")\n",
    "        for v in model.named_vars.values():\n",
    "            print(f\"{v.name}: {type(v).__name__}\")\n",
    "            if hasattr(v, 'distribution'):\n",
    "                print(f\"  Distribution: {type(v.distribution).__name__}\")\n",
    "            elif hasattr(v, 'tag'):\n",
    "                print(f\"  Potential\")\n",
    "            else:\n",
    "                print(f\"  Type: {type(v)}\")\n",
    "\n",
    "        print(\"\\nRandom draw from prior:\")\n",
    "        prior_predictive = pm.sample_prior_predictive(samples=1000)\n",
    "        for var_name, value in prior_predictive.prior.items():\n",
    "            if var_name != 'discriminator_probs':\n",
    "                print(f\"{var_name}: mean = {value.mean().item():.4f}, std = {value.std().item():.4f}\")\n",
    "\n",
    "        print(\"\\nPrior distributions:\")\n",
    "        fig, axes = plt.subplots(3, 3, figsize=(15, 15))\n",
    "        axes = axes.flatten()\n",
    "        for i, (var_name, value) in enumerate(prior_predictive.prior.items()):\n",
    "            if var_name != 'discriminator_probs':\n",
    "                az.plot_dist(value, ax=axes[i], label=var_name)\n",
    "                axes[i].set_title(var_name)\n",
    "                axes[i].legend()\n",
    "        plt.tight_layout()\n",
    "        plt.show()\n",
    "\n",
    "    return model\n",
    "\n",
    "# Usage\n",
    "model = create_model(T, dt, NUM_SAMPLES)\n",
    "print(\"\\nModel created successfully!\")"
   ]
  },
  {
   "cell_type": "code",
   "execution_count": 144,
   "id": "4519a190-c916-48c6-9672-96e5b773725f",
   "metadata": {},
   "outputs": [
    {
     "data": {
      "text/plain": [
       "'with pm.Model() as model:\\n    # Priors (as before)\\n    kc21 = pm.Beta(\\'kc21\\', alpha=2, beta=5)\\n    kc12 = pm.Beta(\\'kc12\\', alpha=2, beta=5)\\n    kco1 = pm.Beta(\\'kco1\\', alpha=2, beta=5)\\n    koc2 = pm.Beta(\\'koc2\\', alpha=2, beta=5)\\n    ko12 = pm.Beta(\\'ko12\\', alpha=2, beta=5)\\n    ko21 = pm.Beta(\\'ko21\\', alpha=2, beta=5)\\n    Fnoise = pm.HalfNormal(\\'Fnoise\\', sigma=1)\\n    scale = pm.HalfNormal(\\'scale\\', sigma=1)\\n    offset = pm.Normal(\\'offset\\', mu=0, sigma=1)\\n    \\n    # Generate synthetic data\\n    synthetic_data = pm.Deterministic(\\'synthetic_data\\', \\n                                      pymc_sim_channel([kc12, kc21, Fnoise, scale, offset, kco1, koc2, ko12, ko21], T, dt, source=\"pymc\"))\\n\\n    # Placeholder for discriminator probabilities\\n    discriminator_probs = pm.MutableData(\\'discriminator_probs\\', np.zeros(NUM_SAMPLES))\\n\\n    # Likelihood based on discriminator probabilities\\n    pm.Potential(\\'likelihood\\', tt.sum(tt.log(discriminator_probs)))'"
      ]
     },
     "execution_count": 144,
     "metadata": {},
     "output_type": "execute_result"
    }
   ],
   "source": [
    "\"\"\"with pm.Model() as model:\n",
    "    # Priors (as before)\n",
    "    kc21 = pm.Beta('kc21', alpha=2, beta=5)\n",
    "    kc12 = pm.Beta('kc12', alpha=2, beta=5)\n",
    "    kco1 = pm.Beta('kco1', alpha=2, beta=5)\n",
    "    koc2 = pm.Beta('koc2', alpha=2, beta=5)\n",
    "    ko12 = pm.Beta('ko12', alpha=2, beta=5)\n",
    "    ko21 = pm.Beta('ko21', alpha=2, beta=5)\n",
    "    Fnoise = pm.HalfNormal('Fnoise', sigma=1)\n",
    "    scale = pm.HalfNormal('scale', sigma=1)\n",
    "    offset = pm.Normal('offset', mu=0, sigma=1)\n",
    "    \n",
    "    # Generate synthetic data\n",
    "    synthetic_data = pm.Deterministic('synthetic_data', \n",
    "                                      pymc_sim_channel([kc12, kc21, Fnoise, scale, offset, kco1, koc2, ko12, ko21], T, dt, source=\"pymc\"))\n",
    "\n",
    "    # Placeholder for discriminator probabilities\n",
    "    discriminator_probs = pm.MutableData('discriminator_probs', np.zeros(NUM_SAMPLES))\n",
    "\n",
    "    # Likelihood based on discriminator probabilities\n",
    "    pm.Potential('likelihood', tt.sum(tt.log(discriminator_probs)))\"\"\"\n"
   ]
  },
  {
   "cell_type": "code",
   "execution_count": 145,
   "id": "3017c6be-12e2-40ac-88f5-c7d0f54d721b",
   "metadata": {},
   "outputs": [],
   "source": [
    "\n",
    "def generate_synthetic_data(trace, num_samples, T, dt):\n",
    "    # Get the last sample from the trace\n",
    "    last_sample = {var: trace.posterior[var].values[:, -1, ...].flatten() \n",
    "                   for var in trace.posterior.data_vars \n",
    "                   if var != 'discriminator_probs'}\n",
    "    \n",
    "    synthetic_data = []\n",
    "    for _ in range(num_samples):\n",
    "        # Randomly select a set of parameters from the last samples\n",
    "        params = {\n",
    "            'kc12': np.random.choice(last_sample['kc12']),\n",
    "            'kc21': np.random.choice(last_sample['kc21']),\n",
    "            'Fnoise': np.random.choice(last_sample['Fnoise']),\n",
    "            'scale': np.random.choice(last_sample['scale']),\n",
    "            'offset': np.random.choice(last_sample['offset']),\n",
    "            'kco1': np.random.choice(last_sample['kco1']),\n",
    "            'koc2': np.random.choice(last_sample['koc2']),\n",
    "            'ko12': np.random.choice(last_sample['ko12']),\n",
    "            'ko21': np.random.choice(last_sample['ko21'])\n",
    "        }\n",
    "        \n",
    "        # Generate a single synthetic data sample\n",
    "        sample = pymc_sim_channel([params['kc12'], params['kc21'], params['Fnoise'], \n",
    "                                   params['scale'], params['offset'], params['kco1'], \n",
    "                                   params['koc2'], params['ko12'], params['ko21']], \n",
    "                                  T, dt, source=\"torch\")\n",
    "        \n",
    "        synthetic_data.append(sample)\n",
    "    \n",
    "    # Stack all samples into a single tensor\n",
    "    return torch.stack(synthetic_data).float()"
   ]
  },
  {
   "cell_type": "code",
   "execution_count": null,
   "id": "0292c4ef-aa84-44a3-932f-cbeb7f6da3fb",
   "metadata": {},
   "outputs": [
    {
     "name": "stderr",
     "output_type": "stream",
     "text": [
      "  0%|                                                                                                                           | 0/100 [00:00<?, ?it/s]Auto-assigning NUTS sampler...\n",
      "Initializing NUTS using jitter+adapt_diag...\n",
      "Multiprocess sampling (4 chains in 4 jobs)\n",
      "NUTS: [kc21, kc12, kco1, koc2, ko12, ko21, Fnoise, scale, offset]\n"
     ]
    },
    {
     "data": {
      "text/html": [
       "\n",
       "<style>\n",
       "    /* Turns off some styling */\n",
       "    progress {\n",
       "        /* gets rid of default border in Firefox and Opera. */\n",
       "        border: none;\n",
       "        /* Needs to be in here for Safari polyfill so background images work as expected. */\n",
       "        background-size: auto;\n",
       "    }\n",
       "    progress:not([value]), progress:not([value])::-webkit-progress-bar {\n",
       "        background: repeating-linear-gradient(45deg, #7e7e7e, #7e7e7e 10px, #5c5c5c 10px, #5c5c5c 20px);\n",
       "    }\n",
       "    .progress-bar-interrupted, .progress-bar-interrupted::-webkit-progress-bar {\n",
       "        background: #F44336;\n",
       "    }\n",
       "</style>\n"
      ],
      "text/plain": [
       "<IPython.core.display.HTML object>"
      ]
     },
     "metadata": {},
     "output_type": "display_data"
    },
    {
     "data": {
      "text/html": [
       "\n",
       "    <div>\n",
       "      <progress value='2200' class='' max='2200' style='width:300px; height:20px; vertical-align: middle;'></progress>\n",
       "      100.00% [2200/2200 00:00&lt;00:00 Sampling 4 chains, 0 divergences]\n",
       "    </div>\n",
       "    "
      ],
      "text/plain": [
       "<IPython.core.display.HTML object>"
      ]
     },
     "metadata": {},
     "output_type": "display_data"
    },
    {
     "name": "stderr",
     "output_type": "stream",
     "text": [
      "Sampling 4 chains for 50 tune and 500 draw iterations (200 + 2_000 draws total) took 1 seconds.\n",
      "  1%|█▏                                                                                                                 | 1/100 [00:04<07:27,  4.52s/it]"
     ]
    },
    {
     "name": "stdout",
     "output_type": "stream",
     "text": [
      "Error in epoch 1: The following variables are not random variables in the model: ['kc12', 'kc21', 'Fnoise', 'scale', 'offset', 'kco1', 'koc2', 'ko12', 'ko21']\n"
     ]
    },
    {
     "name": "stderr",
     "output_type": "stream",
     "text": [
      "  2%|██▎                                                                                                                | 2/100 [00:05<03:38,  2.23s/it]"
     ]
    },
    {
     "name": "stdout",
     "output_type": "stream",
     "text": [
      "Error in epoch 2: The following variables are not random variables in the model: ['kc12', 'kc21', 'Fnoise', 'scale', 'offset', 'kco1', 'koc2', 'ko12', 'ko21']\n"
     ]
    },
    {
     "name": "stderr",
     "output_type": "stream",
     "text": [
      "  3%|███▍                                                                                                               | 3/100 [00:05<02:25,  1.50s/it]"
     ]
    },
    {
     "name": "stdout",
     "output_type": "stream",
     "text": [
      "Error in epoch 3: The following variables are not random variables in the model: ['kc12', 'kc21', 'Fnoise', 'scale', 'offset', 'kco1', 'koc2', 'ko12', 'ko21']\n"
     ]
    },
    {
     "name": "stderr",
     "output_type": "stream",
     "text": [
      "  4%|████▌                                                                                                              | 4/100 [00:06<01:50,  1.15s/it]"
     ]
    },
    {
     "name": "stdout",
     "output_type": "stream",
     "text": [
      "Error in epoch 4: The following variables are not random variables in the model: ['kc12', 'kc21', 'Fnoise', 'scale', 'offset', 'kco1', 'koc2', 'ko12', 'ko21']\n"
     ]
    },
    {
     "name": "stderr",
     "output_type": "stream",
     "text": [
      "  5%|█████▊                                                                                                             | 5/100 [00:07<01:31,  1.03it/s]"
     ]
    },
    {
     "name": "stdout",
     "output_type": "stream",
     "text": [
      "Error in epoch 5: The following variables are not random variables in the model: ['kc12', 'kc21', 'Fnoise', 'scale', 'offset', 'kco1', 'koc2', 'ko12', 'ko21']\n"
     ]
    },
    {
     "name": "stderr",
     "output_type": "stream",
     "text": [
      "  6%|██████▉                                                                                                            | 6/100 [00:07<01:20,  1.17it/s]"
     ]
    },
    {
     "name": "stdout",
     "output_type": "stream",
     "text": [
      "Error in epoch 6: The following variables are not random variables in the model: ['kc12', 'kc21', 'Fnoise', 'scale', 'offset', 'kco1', 'koc2', 'ko12', 'ko21']\n"
     ]
    },
    {
     "name": "stderr",
     "output_type": "stream",
     "text": [
      "  7%|████████                                                                                                           | 7/100 [00:08<01:13,  1.27it/s]"
     ]
    },
    {
     "name": "stdout",
     "output_type": "stream",
     "text": [
      "Error in epoch 7: The following variables are not random variables in the model: ['kc12', 'kc21', 'Fnoise', 'scale', 'offset', 'kco1', 'koc2', 'ko12', 'ko21']\n"
     ]
    },
    {
     "name": "stderr",
     "output_type": "stream",
     "text": [
      "  8%|█████████▏                                                                                                         | 8/100 [00:08<01:07,  1.36it/s]"
     ]
    },
    {
     "name": "stdout",
     "output_type": "stream",
     "text": [
      "Error in epoch 8: The following variables are not random variables in the model: ['kc12', 'kc21', 'Fnoise', 'scale', 'offset', 'kco1', 'koc2', 'ko12', 'ko21']\n"
     ]
    },
    {
     "name": "stderr",
     "output_type": "stream",
     "text": [
      "  9%|██████████▎                                                                                                        | 9/100 [00:09<01:03,  1.43it/s]"
     ]
    },
    {
     "name": "stdout",
     "output_type": "stream",
     "text": [
      "Error in epoch 9: The following variables are not random variables in the model: ['kc12', 'kc21', 'Fnoise', 'scale', 'offset', 'kco1', 'koc2', 'ko12', 'ko21']\n"
     ]
    },
    {
     "name": "stderr",
     "output_type": "stream",
     "text": [
      " 10%|███████████▍                                                                                                      | 10/100 [00:10<01:01,  1.47it/s]"
     ]
    },
    {
     "name": "stdout",
     "output_type": "stream",
     "text": [
      "Error in epoch 10: The following variables are not random variables in the model: ['kc12', 'kc21', 'Fnoise', 'scale', 'offset', 'kco1', 'koc2', 'ko12', 'ko21']\n"
     ]
    },
    {
     "name": "stderr",
     "output_type": "stream",
     "text": [
      "Auto-assigning NUTS sampler...\n",
      "Initializing NUTS using jitter+adapt_diag...\n",
      "Multiprocess sampling (4 chains in 4 jobs)\n",
      "NUTS: [kc21, kc12, kco1, koc2, ko12, ko21, Fnoise, scale, offset]\n"
     ]
    },
    {
     "data": {
      "text/html": [
       "\n",
       "<style>\n",
       "    /* Turns off some styling */\n",
       "    progress {\n",
       "        /* gets rid of default border in Firefox and Opera. */\n",
       "        border: none;\n",
       "        /* Needs to be in here for Safari polyfill so background images work as expected. */\n",
       "        background-size: auto;\n",
       "    }\n",
       "    progress:not([value]), progress:not([value])::-webkit-progress-bar {\n",
       "        background: repeating-linear-gradient(45deg, #7e7e7e, #7e7e7e 10px, #5c5c5c 10px, #5c5c5c 20px);\n",
       "    }\n",
       "    .progress-bar-interrupted, .progress-bar-interrupted::-webkit-progress-bar {\n",
       "        background: #F44336;\n",
       "    }\n",
       "</style>\n"
      ],
      "text/plain": [
       "<IPython.core.display.HTML object>"
      ]
     },
     "metadata": {},
     "output_type": "display_data"
    },
    {
     "data": {
      "text/html": [
       "\n",
       "    <div>\n",
       "      <progress value='2200' class='' max='2200' style='width:300px; height:20px; vertical-align: middle;'></progress>\n",
       "      100.00% [2200/2200 00:00&lt;00:00 Sampling 4 chains, 0 divergences]\n",
       "    </div>\n",
       "    "
      ],
      "text/plain": [
       "<IPython.core.display.HTML object>"
      ]
     },
     "metadata": {},
     "output_type": "display_data"
    },
    {
     "name": "stderr",
     "output_type": "stream",
     "text": [
      "Sampling 4 chains for 50 tune and 500 draw iterations (200 + 2_000 draws total) took 1 seconds.\n",
      " 11%|████████████▌                                                                                                     | 11/100 [00:13<02:23,  1.61s/it]"
     ]
    },
    {
     "name": "stdout",
     "output_type": "stream",
     "text": [
      "Error in epoch 11: The following variables are not random variables in the model: ['kc12', 'kc21', 'Fnoise', 'scale', 'offset', 'kco1', 'koc2', 'ko12', 'ko21']\n"
     ]
    },
    {
     "name": "stderr",
     "output_type": "stream",
     "text": [
      " 12%|█████████████▋                                                                                                    | 12/100 [00:14<01:55,  1.31s/it]"
     ]
    },
    {
     "name": "stdout",
     "output_type": "stream",
     "text": [
      "Error in epoch 12: The following variables are not random variables in the model: ['kc12', 'kc21', 'Fnoise', 'scale', 'offset', 'kco1', 'koc2', 'ko12', 'ko21']\n"
     ]
    },
    {
     "name": "stderr",
     "output_type": "stream",
     "text": [
      " 13%|██████████████▊                                                                                                   | 13/100 [00:15<01:36,  1.11s/it]"
     ]
    },
    {
     "name": "stdout",
     "output_type": "stream",
     "text": [
      "Error in epoch 13: The following variables are not random variables in the model: ['kc12', 'kc21', 'Fnoise', 'scale', 'offset', 'kco1', 'koc2', 'ko12', 'ko21']\n"
     ]
    },
    {
     "name": "stderr",
     "output_type": "stream",
     "text": [
      " 14%|███████████████▉                                                                                                  | 14/100 [00:15<01:23,  1.03it/s]"
     ]
    },
    {
     "name": "stdout",
     "output_type": "stream",
     "text": [
      "Error in epoch 14: The following variables are not random variables in the model: ['kc12', 'kc21', 'Fnoise', 'scale', 'offset', 'kco1', 'koc2', 'ko12', 'ko21']\n"
     ]
    },
    {
     "name": "stderr",
     "output_type": "stream",
     "text": [
      " 15%|█████████████████                                                                                                 | 15/100 [00:16<01:13,  1.15it/s]"
     ]
    },
    {
     "name": "stdout",
     "output_type": "stream",
     "text": [
      "Error in epoch 15: The following variables are not random variables in the model: ['kc12', 'kc21', 'Fnoise', 'scale', 'offset', 'kco1', 'koc2', 'ko12', 'ko21']\n"
     ]
    },
    {
     "name": "stderr",
     "output_type": "stream",
     "text": [
      " 16%|██████████████████▏                                                                                               | 16/100 [00:17<01:07,  1.25it/s]"
     ]
    },
    {
     "name": "stdout",
     "output_type": "stream",
     "text": [
      "Error in epoch 16: The following variables are not random variables in the model: ['kc12', 'kc21', 'Fnoise', 'scale', 'offset', 'kco1', 'koc2', 'ko12', 'ko21']\n"
     ]
    },
    {
     "name": "stderr",
     "output_type": "stream",
     "text": [
      " 17%|███████████████████▍                                                                                              | 17/100 [00:17<01:02,  1.34it/s]"
     ]
    },
    {
     "name": "stdout",
     "output_type": "stream",
     "text": [
      "Error in epoch 17: The following variables are not random variables in the model: ['kc12', 'kc21', 'Fnoise', 'scale', 'offset', 'kco1', 'koc2', 'ko12', 'ko21']\n"
     ]
    },
    {
     "name": "stderr",
     "output_type": "stream",
     "text": [
      " 18%|████████████████████▌                                                                                             | 18/100 [00:18<00:58,  1.40it/s]"
     ]
    },
    {
     "name": "stdout",
     "output_type": "stream",
     "text": [
      "Error in epoch 18: The following variables are not random variables in the model: ['kc12', 'kc21', 'Fnoise', 'scale', 'offset', 'kco1', 'koc2', 'ko12', 'ko21']\n"
     ]
    },
    {
     "name": "stderr",
     "output_type": "stream",
     "text": [
      " 19%|█████████████████████▋                                                                                            | 19/100 [00:19<00:55,  1.46it/s]"
     ]
    },
    {
     "name": "stdout",
     "output_type": "stream",
     "text": [
      "Error in epoch 19: The following variables are not random variables in the model: ['kc12', 'kc21', 'Fnoise', 'scale', 'offset', 'kco1', 'koc2', 'ko12', 'ko21']\n"
     ]
    },
    {
     "name": "stderr",
     "output_type": "stream",
     "text": [
      " 20%|██████████████████████▊                                                                                           | 20/100 [00:19<00:53,  1.49it/s]"
     ]
    },
    {
     "name": "stdout",
     "output_type": "stream",
     "text": [
      "Error in epoch 20: The following variables are not random variables in the model: ['kc12', 'kc21', 'Fnoise', 'scale', 'offset', 'kco1', 'koc2', 'ko12', 'ko21']\n"
     ]
    },
    {
     "name": "stderr",
     "output_type": "stream",
     "text": [
      "Auto-assigning NUTS sampler...\n",
      "Initializing NUTS using jitter+adapt_diag...\n",
      "Multiprocess sampling (4 chains in 4 jobs)\n",
      "NUTS: [kc21, kc12, kco1, koc2, ko12, ko21, Fnoise, scale, offset]\n"
     ]
    },
    {
     "data": {
      "text/html": [
       "\n",
       "<style>\n",
       "    /* Turns off some styling */\n",
       "    progress {\n",
       "        /* gets rid of default border in Firefox and Opera. */\n",
       "        border: none;\n",
       "        /* Needs to be in here for Safari polyfill so background images work as expected. */\n",
       "        background-size: auto;\n",
       "    }\n",
       "    progress:not([value]), progress:not([value])::-webkit-progress-bar {\n",
       "        background: repeating-linear-gradient(45deg, #7e7e7e, #7e7e7e 10px, #5c5c5c 10px, #5c5c5c 20px);\n",
       "    }\n",
       "    .progress-bar-interrupted, .progress-bar-interrupted::-webkit-progress-bar {\n",
       "        background: #F44336;\n",
       "    }\n",
       "</style>\n"
      ],
      "text/plain": [
       "<IPython.core.display.HTML object>"
      ]
     },
     "metadata": {},
     "output_type": "display_data"
    },
    {
     "data": {
      "text/html": [
       "\n",
       "    <div>\n",
       "      <progress value='2200' class='' max='2200' style='width:300px; height:20px; vertical-align: middle;'></progress>\n",
       "      100.00% [2200/2200 00:00&lt;00:00 Sampling 4 chains, 0 divergences]\n",
       "    </div>\n",
       "    "
      ],
      "text/plain": [
       "<IPython.core.display.HTML object>"
      ]
     },
     "metadata": {},
     "output_type": "display_data"
    },
    {
     "name": "stderr",
     "output_type": "stream",
     "text": [
      "Sampling 4 chains for 50 tune and 500 draw iterations (200 + 2_000 draws total) took 1 seconds.\n",
      " 21%|███████████████████████▉                                                                                          | 21/100 [00:24<02:29,  1.89s/it]"
     ]
    },
    {
     "name": "stdout",
     "output_type": "stream",
     "text": [
      "Error in epoch 21: The following variables are not random variables in the model: ['kc12', 'kc21', 'Fnoise', 'scale', 'offset', 'kco1', 'koc2', 'ko12', 'ko21']\n"
     ]
    },
    {
     "name": "stderr",
     "output_type": "stream",
     "text": [
      " 22%|█████████████████████████                                                                                         | 22/100 [00:25<01:57,  1.51s/it]"
     ]
    },
    {
     "name": "stdout",
     "output_type": "stream",
     "text": [
      "Error in epoch 22: The following variables are not random variables in the model: ['kc12', 'kc21', 'Fnoise', 'scale', 'offset', 'kco1', 'koc2', 'ko12', 'ko21']\n"
     ]
    },
    {
     "name": "stderr",
     "output_type": "stream",
     "text": [
      " 23%|██████████████████████████▏                                                                                       | 23/100 [00:25<01:35,  1.25s/it]"
     ]
    },
    {
     "name": "stdout",
     "output_type": "stream",
     "text": [
      "Error in epoch 23: The following variables are not random variables in the model: ['kc12', 'kc21', 'Fnoise', 'scale', 'offset', 'kco1', 'koc2', 'ko12', 'ko21']\n"
     ]
    },
    {
     "name": "stderr",
     "output_type": "stream",
     "text": [
      " 24%|███████████████████████████▎                                                                                      | 24/100 [00:26<01:21,  1.07s/it]"
     ]
    },
    {
     "name": "stdout",
     "output_type": "stream",
     "text": [
      "Error in epoch 24: The following variables are not random variables in the model: ['kc12', 'kc21', 'Fnoise', 'scale', 'offset', 'kco1', 'koc2', 'ko12', 'ko21']\n"
     ]
    },
    {
     "name": "stderr",
     "output_type": "stream",
     "text": [
      " 25%|████████████████████████████▌                                                                                     | 25/100 [00:26<01:10,  1.06it/s]"
     ]
    },
    {
     "name": "stdout",
     "output_type": "stream",
     "text": [
      "Error in epoch 25: The following variables are not random variables in the model: ['kc12', 'kc21', 'Fnoise', 'scale', 'offset', 'kco1', 'koc2', 'ko12', 'ko21']\n"
     ]
    },
    {
     "name": "stderr",
     "output_type": "stream",
     "text": [
      " 26%|█████████████████████████████▋                                                                                    | 26/100 [00:27<01:02,  1.18it/s]"
     ]
    },
    {
     "name": "stdout",
     "output_type": "stream",
     "text": [
      "Error in epoch 26: The following variables are not random variables in the model: ['kc12', 'kc21', 'Fnoise', 'scale', 'offset', 'kco1', 'koc2', 'ko12', 'ko21']\n"
     ]
    },
    {
     "name": "stderr",
     "output_type": "stream",
     "text": [
      " 27%|██████████████████████████████▊                                                                                   | 27/100 [00:28<00:57,  1.27it/s]"
     ]
    },
    {
     "name": "stdout",
     "output_type": "stream",
     "text": [
      "Error in epoch 27: The following variables are not random variables in the model: ['kc12', 'kc21', 'Fnoise', 'scale', 'offset', 'kco1', 'koc2', 'ko12', 'ko21']\n"
     ]
    },
    {
     "name": "stderr",
     "output_type": "stream",
     "text": [
      " 28%|███████████████████████████████▉                                                                                  | 28/100 [00:28<00:53,  1.35it/s]"
     ]
    },
    {
     "name": "stdout",
     "output_type": "stream",
     "text": [
      "Error in epoch 28: The following variables are not random variables in the model: ['kc12', 'kc21', 'Fnoise', 'scale', 'offset', 'kco1', 'koc2', 'ko12', 'ko21']\n"
     ]
    },
    {
     "name": "stderr",
     "output_type": "stream",
     "text": [
      " 29%|█████████████████████████████████                                                                                 | 29/100 [00:29<00:50,  1.41it/s]"
     ]
    },
    {
     "name": "stdout",
     "output_type": "stream",
     "text": [
      "Error in epoch 29: The following variables are not random variables in the model: ['kc12', 'kc21', 'Fnoise', 'scale', 'offset', 'kco1', 'koc2', 'ko12', 'ko21']\n"
     ]
    },
    {
     "name": "stderr",
     "output_type": "stream",
     "text": [
      " 30%|██████████████████████████████████▏                                                                               | 30/100 [00:30<00:47,  1.46it/s]"
     ]
    },
    {
     "name": "stdout",
     "output_type": "stream",
     "text": [
      "Error in epoch 30: The following variables are not random variables in the model: ['kc12', 'kc21', 'Fnoise', 'scale', 'offset', 'kco1', 'koc2', 'ko12', 'ko21']\n"
     ]
    },
    {
     "name": "stderr",
     "output_type": "stream",
     "text": [
      "Auto-assigning NUTS sampler...\n",
      "Initializing NUTS using jitter+adapt_diag...\n",
      "Multiprocess sampling (4 chains in 4 jobs)\n",
      "NUTS: [kc21, kc12, kco1, koc2, ko12, ko21, Fnoise, scale, offset]\n"
     ]
    },
    {
     "data": {
      "text/html": [
       "\n",
       "<style>\n",
       "    /* Turns off some styling */\n",
       "    progress {\n",
       "        /* gets rid of default border in Firefox and Opera. */\n",
       "        border: none;\n",
       "        /* Needs to be in here for Safari polyfill so background images work as expected. */\n",
       "        background-size: auto;\n",
       "    }\n",
       "    progress:not([value]), progress:not([value])::-webkit-progress-bar {\n",
       "        background: repeating-linear-gradient(45deg, #7e7e7e, #7e7e7e 10px, #5c5c5c 10px, #5c5c5c 20px);\n",
       "    }\n",
       "    .progress-bar-interrupted, .progress-bar-interrupted::-webkit-progress-bar {\n",
       "        background: #F44336;\n",
       "    }\n",
       "</style>\n"
      ],
      "text/plain": [
       "<IPython.core.display.HTML object>"
      ]
     },
     "metadata": {},
     "output_type": "display_data"
    },
    {
     "data": {
      "text/html": [
       "\n",
       "    <div>\n",
       "      <progress value='2200' class='' max='2200' style='width:300px; height:20px; vertical-align: middle;'></progress>\n",
       "      100.00% [2200/2200 00:00&lt;00:00 Sampling 4 chains, 0 divergences]\n",
       "    </div>\n",
       "    "
      ],
      "text/plain": [
       "<IPython.core.display.HTML object>"
      ]
     },
     "metadata": {},
     "output_type": "display_data"
    },
    {
     "name": "stderr",
     "output_type": "stream",
     "text": [
      "Sampling 4 chains for 50 tune and 500 draw iterations (200 + 2_000 draws total) took 0 seconds.\n",
      " 31%|███████████████████████████████████▎                                                                              | 31/100 [00:34<02:08,  1.86s/it]"
     ]
    },
    {
     "name": "stdout",
     "output_type": "stream",
     "text": [
      "Error in epoch 31: The following variables are not random variables in the model: ['kc12', 'kc21', 'Fnoise', 'scale', 'offset', 'kco1', 'koc2', 'ko12', 'ko21']\n"
     ]
    },
    {
     "name": "stderr",
     "output_type": "stream",
     "text": [
      " 32%|████████████████████████████████████▍                                                                             | 32/100 [00:35<01:42,  1.51s/it]"
     ]
    },
    {
     "name": "stdout",
     "output_type": "stream",
     "text": [
      "Error in epoch 32: The following variables are not random variables in the model: ['kc12', 'kc21', 'Fnoise', 'scale', 'offset', 'kco1', 'koc2', 'ko12', 'ko21']\n"
     ]
    },
    {
     "name": "stderr",
     "output_type": "stream",
     "text": [
      " 33%|█████████████████████████████████████▌                                                                            | 33/100 [00:36<01:24,  1.26s/it]"
     ]
    },
    {
     "name": "stdout",
     "output_type": "stream",
     "text": [
      "Error in epoch 33: The following variables are not random variables in the model: ['kc12', 'kc21', 'Fnoise', 'scale', 'offset', 'kco1', 'koc2', 'ko12', 'ko21']\n"
     ]
    },
    {
     "name": "stderr",
     "output_type": "stream",
     "text": [
      " 34%|██████████████████████████████████████▊                                                                           | 34/100 [00:36<01:12,  1.09s/it]"
     ]
    },
    {
     "name": "stdout",
     "output_type": "stream",
     "text": [
      "Error in epoch 34: The following variables are not random variables in the model: ['kc12', 'kc21', 'Fnoise', 'scale', 'offset', 'kco1', 'koc2', 'ko12', 'ko21']\n"
     ]
    },
    {
     "name": "stderr",
     "output_type": "stream",
     "text": [
      " 35%|███████████████████████████████████████▉                                                                          | 35/100 [00:37<01:02,  1.04it/s]"
     ]
    },
    {
     "name": "stdout",
     "output_type": "stream",
     "text": [
      "Error in epoch 35: The following variables are not random variables in the model: ['kc12', 'kc21', 'Fnoise', 'scale', 'offset', 'kco1', 'koc2', 'ko12', 'ko21']\n"
     ]
    },
    {
     "name": "stderr",
     "output_type": "stream",
     "text": [
      " 36%|█████████████████████████████████████████                                                                         | 36/100 [00:38<00:55,  1.15it/s]"
     ]
    },
    {
     "name": "stdout",
     "output_type": "stream",
     "text": [
      "Error in epoch 36: The following variables are not random variables in the model: ['kc12', 'kc21', 'Fnoise', 'scale', 'offset', 'kco1', 'koc2', 'ko12', 'ko21']\n"
     ]
    },
    {
     "name": "stderr",
     "output_type": "stream",
     "text": [
      " 37%|██████████████████████████████████████████▏                                                                       | 37/100 [00:38<00:50,  1.24it/s]"
     ]
    },
    {
     "name": "stdout",
     "output_type": "stream",
     "text": [
      "Error in epoch 37: The following variables are not random variables in the model: ['kc12', 'kc21', 'Fnoise', 'scale', 'offset', 'kco1', 'koc2', 'ko12', 'ko21']\n"
     ]
    },
    {
     "name": "stderr",
     "output_type": "stream",
     "text": [
      " 38%|███████████████████████████████████████████▎                                                                      | 38/100 [00:39<00:47,  1.31it/s]"
     ]
    },
    {
     "name": "stdout",
     "output_type": "stream",
     "text": [
      "Error in epoch 38: The following variables are not random variables in the model: ['kc12', 'kc21', 'Fnoise', 'scale', 'offset', 'kco1', 'koc2', 'ko12', 'ko21']\n"
     ]
    },
    {
     "name": "stderr",
     "output_type": "stream",
     "text": [
      " 39%|████████████████████████████████████████████▍                                                                     | 39/100 [00:40<00:44,  1.36it/s]"
     ]
    },
    {
     "name": "stdout",
     "output_type": "stream",
     "text": [
      "Error in epoch 39: The following variables are not random variables in the model: ['kc12', 'kc21', 'Fnoise', 'scale', 'offset', 'kco1', 'koc2', 'ko12', 'ko21']\n"
     ]
    },
    {
     "name": "stderr",
     "output_type": "stream",
     "text": [
      " 40%|█████████████████████████████████████████████▌                                                                    | 40/100 [00:40<00:42,  1.41it/s]"
     ]
    },
    {
     "name": "stdout",
     "output_type": "stream",
     "text": [
      "Error in epoch 40: The following variables are not random variables in the model: ['kc12', 'kc21', 'Fnoise', 'scale', 'offset', 'kco1', 'koc2', 'ko12', 'ko21']\n"
     ]
    },
    {
     "name": "stderr",
     "output_type": "stream",
     "text": [
      "Auto-assigning NUTS sampler...\n",
      "Initializing NUTS using jitter+adapt_diag...\n",
      "Multiprocess sampling (4 chains in 4 jobs)\n",
      "NUTS: [kc21, kc12, kco1, koc2, ko12, ko21, Fnoise, scale, offset]\n"
     ]
    },
    {
     "data": {
      "text/html": [
       "\n",
       "<style>\n",
       "    /* Turns off some styling */\n",
       "    progress {\n",
       "        /* gets rid of default border in Firefox and Opera. */\n",
       "        border: none;\n",
       "        /* Needs to be in here for Safari polyfill so background images work as expected. */\n",
       "        background-size: auto;\n",
       "    }\n",
       "    progress:not([value]), progress:not([value])::-webkit-progress-bar {\n",
       "        background: repeating-linear-gradient(45deg, #7e7e7e, #7e7e7e 10px, #5c5c5c 10px, #5c5c5c 20px);\n",
       "    }\n",
       "    .progress-bar-interrupted, .progress-bar-interrupted::-webkit-progress-bar {\n",
       "        background: #F44336;\n",
       "    }\n",
       "</style>\n"
      ],
      "text/plain": [
       "<IPython.core.display.HTML object>"
      ]
     },
     "metadata": {},
     "output_type": "display_data"
    },
    {
     "data": {
      "text/html": [
       "\n",
       "    <div>\n",
       "      <progress value='2200' class='' max='2200' style='width:300px; height:20px; vertical-align: middle;'></progress>\n",
       "      100.00% [2200/2200 00:00&lt;00:00 Sampling 4 chains, 0 divergences]\n",
       "    </div>\n",
       "    "
      ],
      "text/plain": [
       "<IPython.core.display.HTML object>"
      ]
     },
     "metadata": {},
     "output_type": "display_data"
    },
    {
     "name": "stderr",
     "output_type": "stream",
     "text": [
      "Sampling 4 chains for 50 tune and 500 draw iterations (200 + 2_000 draws total) took 0 seconds.\n",
      " 41%|██████████████████████████████████████████████▋                                                                   | 41/100 [00:45<01:51,  1.89s/it]"
     ]
    },
    {
     "name": "stdout",
     "output_type": "stream",
     "text": [
      "Error in epoch 41: The following variables are not random variables in the model: ['kc12', 'kc21', 'Fnoise', 'scale', 'offset', 'kco1', 'koc2', 'ko12', 'ko21']\n"
     ]
    },
    {
     "name": "stderr",
     "output_type": "stream",
     "text": [
      " 42%|███████████████████████████████████████████████▉                                                                  | 42/100 [00:46<01:27,  1.51s/it]"
     ]
    },
    {
     "name": "stdout",
     "output_type": "stream",
     "text": [
      "Error in epoch 42: The following variables are not random variables in the model: ['kc12', 'kc21', 'Fnoise', 'scale', 'offset', 'kco1', 'koc2', 'ko12', 'ko21']\n"
     ]
    },
    {
     "name": "stderr",
     "output_type": "stream",
     "text": [
      " 43%|█████████████████████████████████████████████████                                                                 | 43/100 [00:46<01:11,  1.25s/it]"
     ]
    },
    {
     "name": "stdout",
     "output_type": "stream",
     "text": [
      "Error in epoch 43: The following variables are not random variables in the model: ['kc12', 'kc21', 'Fnoise', 'scale', 'offset', 'kco1', 'koc2', 'ko12', 'ko21']\n"
     ]
    },
    {
     "name": "stderr",
     "output_type": "stream",
     "text": [
      " 44%|██████████████████████████████████████████████████▏                                                               | 44/100 [00:47<01:00,  1.08s/it]"
     ]
    },
    {
     "name": "stdout",
     "output_type": "stream",
     "text": [
      "Error in epoch 44: The following variables are not random variables in the model: ['kc12', 'kc21', 'Fnoise', 'scale', 'offset', 'kco1', 'koc2', 'ko12', 'ko21']\n"
     ]
    },
    {
     "name": "stderr",
     "output_type": "stream",
     "text": [
      " 45%|███████████████████████████████████████████████████▎                                                              | 45/100 [00:47<00:52,  1.05it/s]"
     ]
    },
    {
     "name": "stdout",
     "output_type": "stream",
     "text": [
      "Error in epoch 45: The following variables are not random variables in the model: ['kc12', 'kc21', 'Fnoise', 'scale', 'offset', 'kco1', 'koc2', 'ko12', 'ko21']\n"
     ]
    },
    {
     "name": "stderr",
     "output_type": "stream",
     "text": [
      " 46%|████████████████████████████████████████████████████▍                                                             | 46/100 [00:48<00:46,  1.15it/s]"
     ]
    },
    {
     "name": "stdout",
     "output_type": "stream",
     "text": [
      "Error in epoch 46: The following variables are not random variables in the model: ['kc12', 'kc21', 'Fnoise', 'scale', 'offset', 'kco1', 'koc2', 'ko12', 'ko21']\n"
     ]
    },
    {
     "name": "stderr",
     "output_type": "stream",
     "text": [
      " 47%|█████████████████████████████████████████████████████▌                                                            | 47/100 [00:49<00:42,  1.25it/s]"
     ]
    },
    {
     "name": "stdout",
     "output_type": "stream",
     "text": [
      "Error in epoch 47: The following variables are not random variables in the model: ['kc12', 'kc21', 'Fnoise', 'scale', 'offset', 'kco1', 'koc2', 'ko12', 'ko21']\n"
     ]
    },
    {
     "name": "stderr",
     "output_type": "stream",
     "text": [
      " 48%|██████████████████████████████████████████████████████▋                                                           | 48/100 [00:49<00:39,  1.32it/s]"
     ]
    },
    {
     "name": "stdout",
     "output_type": "stream",
     "text": [
      "Error in epoch 48: The following variables are not random variables in the model: ['kc12', 'kc21', 'Fnoise', 'scale', 'offset', 'kco1', 'koc2', 'ko12', 'ko21']\n"
     ]
    },
    {
     "name": "stderr",
     "output_type": "stream",
     "text": [
      " 49%|███████████████████████████████████████████████████████▊                                                          | 49/100 [00:50<00:36,  1.38it/s]"
     ]
    },
    {
     "name": "stdout",
     "output_type": "stream",
     "text": [
      "Error in epoch 49: The following variables are not random variables in the model: ['kc12', 'kc21', 'Fnoise', 'scale', 'offset', 'kco1', 'koc2', 'ko12', 'ko21']\n"
     ]
    },
    {
     "name": "stderr",
     "output_type": "stream",
     "text": [
      " 50%|█████████████████████████████████████████████████████████                                                         | 50/100 [00:51<00:34,  1.43it/s]"
     ]
    },
    {
     "name": "stdout",
     "output_type": "stream",
     "text": [
      "Error in epoch 50: The following variables are not random variables in the model: ['kc12', 'kc21', 'Fnoise', 'scale', 'offset', 'kco1', 'koc2', 'ko12', 'ko21']\n"
     ]
    },
    {
     "name": "stderr",
     "output_type": "stream",
     "text": [
      "Auto-assigning NUTS sampler...\n",
      "Initializing NUTS using jitter+adapt_diag...\n",
      "Multiprocess sampling (4 chains in 4 jobs)\n",
      "NUTS: [kc21, kc12, kco1, koc2, ko12, ko21, Fnoise, scale, offset]\n"
     ]
    },
    {
     "data": {
      "text/html": [
       "\n",
       "<style>\n",
       "    /* Turns off some styling */\n",
       "    progress {\n",
       "        /* gets rid of default border in Firefox and Opera. */\n",
       "        border: none;\n",
       "        /* Needs to be in here for Safari polyfill so background images work as expected. */\n",
       "        background-size: auto;\n",
       "    }\n",
       "    progress:not([value]), progress:not([value])::-webkit-progress-bar {\n",
       "        background: repeating-linear-gradient(45deg, #7e7e7e, #7e7e7e 10px, #5c5c5c 10px, #5c5c5c 20px);\n",
       "    }\n",
       "    .progress-bar-interrupted, .progress-bar-interrupted::-webkit-progress-bar {\n",
       "        background: #F44336;\n",
       "    }\n",
       "</style>\n"
      ],
      "text/plain": [
       "<IPython.core.display.HTML object>"
      ]
     },
     "metadata": {},
     "output_type": "display_data"
    },
    {
     "data": {
      "text/html": [
       "\n",
       "    <div>\n",
       "      <progress value='2200' class='' max='2200' style='width:300px; height:20px; vertical-align: middle;'></progress>\n",
       "      100.00% [2200/2200 00:00&lt;00:00 Sampling 4 chains, 0 divergences]\n",
       "    </div>\n",
       "    "
      ],
      "text/plain": [
       "<IPython.core.display.HTML object>"
      ]
     },
     "metadata": {},
     "output_type": "display_data"
    },
    {
     "name": "stderr",
     "output_type": "stream",
     "text": [
      "Sampling 4 chains for 50 tune and 500 draw iterations (200 + 2_000 draws total) took 1 seconds.\n",
      " 51%|██████████████████████████████████████████████████████████▏                                                       | 51/100 [00:55<01:20,  1.64s/it]"
     ]
    },
    {
     "name": "stdout",
     "output_type": "stream",
     "text": [
      "Error in epoch 51: The following variables are not random variables in the model: ['kc12', 'kc21', 'Fnoise', 'scale', 'offset', 'kco1', 'koc2', 'ko12', 'ko21']\n"
     ]
    },
    {
     "name": "stderr",
     "output_type": "stream",
     "text": [
      " 52%|███████████████████████████████████████████████████████████▎                                                      | 52/100 [00:55<01:04,  1.35s/it]"
     ]
    },
    {
     "name": "stdout",
     "output_type": "stream",
     "text": [
      "Error in epoch 52: The following variables are not random variables in the model: ['kc12', 'kc21', 'Fnoise', 'scale', 'offset', 'kco1', 'koc2', 'ko12', 'ko21']\n"
     ]
    },
    {
     "name": "stderr",
     "output_type": "stream",
     "text": [
      " 53%|████████████████████████████████████████████████████████████▍                                                     | 53/100 [00:56<00:53,  1.14s/it]"
     ]
    },
    {
     "name": "stdout",
     "output_type": "stream",
     "text": [
      "Error in epoch 53: The following variables are not random variables in the model: ['kc12', 'kc21', 'Fnoise', 'scale', 'offset', 'kco1', 'koc2', 'ko12', 'ko21']\n"
     ]
    },
    {
     "name": "stderr",
     "output_type": "stream",
     "text": [
      " 54%|█████████████████████████████████████████████████████████████▌                                                    | 54/100 [00:57<00:45,  1.00it/s]"
     ]
    },
    {
     "name": "stdout",
     "output_type": "stream",
     "text": [
      "Error in epoch 54: The following variables are not random variables in the model: ['kc12', 'kc21', 'Fnoise', 'scale', 'offset', 'kco1', 'koc2', 'ko12', 'ko21']\n"
     ]
    },
    {
     "name": "stderr",
     "output_type": "stream",
     "text": [
      " 55%|██████████████████████████████████████████████████████████████▋                                                   | 55/100 [00:57<00:40,  1.11it/s]"
     ]
    },
    {
     "name": "stdout",
     "output_type": "stream",
     "text": [
      "Error in epoch 55: The following variables are not random variables in the model: ['kc12', 'kc21', 'Fnoise', 'scale', 'offset', 'kco1', 'koc2', 'ko12', 'ko21']\n"
     ]
    },
    {
     "name": "stderr",
     "output_type": "stream",
     "text": [
      " 56%|███████████████████████████████████████████████████████████████▊                                                  | 56/100 [00:58<00:36,  1.21it/s]"
     ]
    },
    {
     "name": "stdout",
     "output_type": "stream",
     "text": [
      "Error in epoch 56: The following variables are not random variables in the model: ['kc12', 'kc21', 'Fnoise', 'scale', 'offset', 'kco1', 'koc2', 'ko12', 'ko21']\n"
     ]
    },
    {
     "name": "stderr",
     "output_type": "stream",
     "text": [
      " 57%|████████████████████████████████████████████████████████████████▉                                                 | 57/100 [00:59<00:33,  1.29it/s]"
     ]
    },
    {
     "name": "stdout",
     "output_type": "stream",
     "text": [
      "Error in epoch 57: The following variables are not random variables in the model: ['kc12', 'kc21', 'Fnoise', 'scale', 'offset', 'kco1', 'koc2', 'ko12', 'ko21']\n"
     ]
    },
    {
     "name": "stderr",
     "output_type": "stream",
     "text": [
      " 58%|██████████████████████████████████████████████████████████████████                                                | 58/100 [00:59<00:31,  1.35it/s]"
     ]
    },
    {
     "name": "stdout",
     "output_type": "stream",
     "text": [
      "Error in epoch 58: The following variables are not random variables in the model: ['kc12', 'kc21', 'Fnoise', 'scale', 'offset', 'kco1', 'koc2', 'ko12', 'ko21']\n"
     ]
    },
    {
     "name": "stderr",
     "output_type": "stream",
     "text": [
      " 59%|███████████████████████████████████████████████████████████████████▎                                              | 59/100 [01:00<00:29,  1.41it/s]"
     ]
    },
    {
     "name": "stdout",
     "output_type": "stream",
     "text": [
      "Error in epoch 59: The following variables are not random variables in the model: ['kc12', 'kc21', 'Fnoise', 'scale', 'offset', 'kco1', 'koc2', 'ko12', 'ko21']\n"
     ]
    },
    {
     "name": "stderr",
     "output_type": "stream",
     "text": [
      " 60%|████████████████████████████████████████████████████████████████████▍                                             | 60/100 [01:00<00:27,  1.46it/s]"
     ]
    },
    {
     "name": "stdout",
     "output_type": "stream",
     "text": [
      "Error in epoch 60: The following variables are not random variables in the model: ['kc12', 'kc21', 'Fnoise', 'scale', 'offset', 'kco1', 'koc2', 'ko12', 'ko21']\n"
     ]
    },
    {
     "name": "stderr",
     "output_type": "stream",
     "text": [
      "Auto-assigning NUTS sampler...\n",
      "Initializing NUTS using jitter+adapt_diag...\n",
      "Multiprocess sampling (4 chains in 4 jobs)\n",
      "NUTS: [kc21, kc12, kco1, koc2, ko12, ko21, Fnoise, scale, offset]\n"
     ]
    },
    {
     "data": {
      "text/html": [
       "\n",
       "<style>\n",
       "    /* Turns off some styling */\n",
       "    progress {\n",
       "        /* gets rid of default border in Firefox and Opera. */\n",
       "        border: none;\n",
       "        /* Needs to be in here for Safari polyfill so background images work as expected. */\n",
       "        background-size: auto;\n",
       "    }\n",
       "    progress:not([value]), progress:not([value])::-webkit-progress-bar {\n",
       "        background: repeating-linear-gradient(45deg, #7e7e7e, #7e7e7e 10px, #5c5c5c 10px, #5c5c5c 20px);\n",
       "    }\n",
       "    .progress-bar-interrupted, .progress-bar-interrupted::-webkit-progress-bar {\n",
       "        background: #F44336;\n",
       "    }\n",
       "</style>\n"
      ],
      "text/plain": [
       "<IPython.core.display.HTML object>"
      ]
     },
     "metadata": {},
     "output_type": "display_data"
    },
    {
     "data": {
      "text/html": [
       "\n",
       "    <div>\n",
       "      <progress value='2200' class='' max='2200' style='width:300px; height:20px; vertical-align: middle;'></progress>\n",
       "      100.00% [2200/2200 00:00&lt;00:00 Sampling 4 chains, 0 divergences]\n",
       "    </div>\n",
       "    "
      ],
      "text/plain": [
       "<IPython.core.display.HTML object>"
      ]
     },
     "metadata": {},
     "output_type": "display_data"
    },
    {
     "name": "stderr",
     "output_type": "stream",
     "text": [
      "Sampling 4 chains for 50 tune and 500 draw iterations (200 + 2_000 draws total) took 0 seconds.\n",
      " 61%|█████████████████████████████████████████████████████████████████████▌                                            | 61/100 [01:05<01:14,  1.92s/it]"
     ]
    },
    {
     "name": "stdout",
     "output_type": "stream",
     "text": [
      "Error in epoch 61: The following variables are not random variables in the model: ['kc12', 'kc21', 'Fnoise', 'scale', 'offset', 'kco1', 'koc2', 'ko12', 'ko21']\n"
     ]
    },
    {
     "name": "stderr",
     "output_type": "stream",
     "text": [
      " 62%|██████████████████████████████████████████████████████████████████████▋                                           | 62/100 [01:06<00:58,  1.54s/it]"
     ]
    },
    {
     "name": "stdout",
     "output_type": "stream",
     "text": [
      "Error in epoch 62: The following variables are not random variables in the model: ['kc12', 'kc21', 'Fnoise', 'scale', 'offset', 'kco1', 'koc2', 'ko12', 'ko21']\n"
     ]
    },
    {
     "name": "stderr",
     "output_type": "stream",
     "text": [
      " 63%|███████████████████████████████████████████████████████████████████████▊                                          | 63/100 [01:07<00:47,  1.27s/it]"
     ]
    },
    {
     "name": "stdout",
     "output_type": "stream",
     "text": [
      "Error in epoch 63: The following variables are not random variables in the model: ['kc12', 'kc21', 'Fnoise', 'scale', 'offset', 'kco1', 'koc2', 'ko12', 'ko21']\n"
     ]
    },
    {
     "name": "stderr",
     "output_type": "stream",
     "text": [
      " 64%|████████████████████████████████████████████████████████████████████████▉                                         | 64/100 [01:07<00:39,  1.09s/it]"
     ]
    },
    {
     "name": "stdout",
     "output_type": "stream",
     "text": [
      "Error in epoch 64: The following variables are not random variables in the model: ['kc12', 'kc21', 'Fnoise', 'scale', 'offset', 'kco1', 'koc2', 'ko12', 'ko21']\n"
     ]
    },
    {
     "name": "stderr",
     "output_type": "stream",
     "text": [
      " 65%|██████████████████████████████████████████████████████████████████████████                                        | 65/100 [01:08<00:33,  1.04it/s]"
     ]
    },
    {
     "name": "stdout",
     "output_type": "stream",
     "text": [
      "Error in epoch 65: The following variables are not random variables in the model: ['kc12', 'kc21', 'Fnoise', 'scale', 'offset', 'kco1', 'koc2', 'ko12', 'ko21']\n"
     ]
    },
    {
     "name": "stderr",
     "output_type": "stream",
     "text": [
      " 66%|███████████████████████████████████████████████████████████████████████████▏                                      | 66/100 [01:09<00:29,  1.16it/s]"
     ]
    },
    {
     "name": "stdout",
     "output_type": "stream",
     "text": [
      "Error in epoch 66: The following variables are not random variables in the model: ['kc12', 'kc21', 'Fnoise', 'scale', 'offset', 'kco1', 'koc2', 'ko12', 'ko21']\n"
     ]
    },
    {
     "name": "stderr",
     "output_type": "stream",
     "text": [
      " 67%|████████████████████████████████████████████████████████████████████████████▍                                     | 67/100 [01:09<00:26,  1.25it/s]"
     ]
    },
    {
     "name": "stdout",
     "output_type": "stream",
     "text": [
      "Error in epoch 67: The following variables are not random variables in the model: ['kc12', 'kc21', 'Fnoise', 'scale', 'offset', 'kco1', 'koc2', 'ko12', 'ko21']\n"
     ]
    },
    {
     "name": "stderr",
     "output_type": "stream",
     "text": [
      " 68%|█████████████████████████████████████████████████████████████████████████████▌                                    | 68/100 [01:10<00:24,  1.33it/s]"
     ]
    },
    {
     "name": "stdout",
     "output_type": "stream",
     "text": [
      "Error in epoch 68: The following variables are not random variables in the model: ['kc12', 'kc21', 'Fnoise', 'scale', 'offset', 'kco1', 'koc2', 'ko12', 'ko21']\n"
     ]
    },
    {
     "name": "stderr",
     "output_type": "stream",
     "text": [
      " 69%|██████████████████████████████████████████████████████████████████████████████▋                                   | 69/100 [01:10<00:22,  1.40it/s]"
     ]
    },
    {
     "name": "stdout",
     "output_type": "stream",
     "text": [
      "Error in epoch 69: The following variables are not random variables in the model: ['kc12', 'kc21', 'Fnoise', 'scale', 'offset', 'kco1', 'koc2', 'ko12', 'ko21']\n"
     ]
    },
    {
     "name": "stderr",
     "output_type": "stream",
     "text": [
      " 70%|███████████████████████████████████████████████████████████████████████████████▊                                  | 70/100 [01:11<00:20,  1.45it/s]"
     ]
    },
    {
     "name": "stdout",
     "output_type": "stream",
     "text": [
      "Error in epoch 70: The following variables are not random variables in the model: ['kc12', 'kc21', 'Fnoise', 'scale', 'offset', 'kco1', 'koc2', 'ko12', 'ko21']\n"
     ]
    },
    {
     "name": "stderr",
     "output_type": "stream",
     "text": [
      "Auto-assigning NUTS sampler...\n",
      "Initializing NUTS using jitter+adapt_diag...\n",
      "Multiprocess sampling (4 chains in 4 jobs)\n",
      "NUTS: [kc21, kc12, kco1, koc2, ko12, ko21, Fnoise, scale, offset]\n"
     ]
    },
    {
     "data": {
      "text/html": [
       "\n",
       "<style>\n",
       "    /* Turns off some styling */\n",
       "    progress {\n",
       "        /* gets rid of default border in Firefox and Opera. */\n",
       "        border: none;\n",
       "        /* Needs to be in here for Safari polyfill so background images work as expected. */\n",
       "        background-size: auto;\n",
       "    }\n",
       "    progress:not([value]), progress:not([value])::-webkit-progress-bar {\n",
       "        background: repeating-linear-gradient(45deg, #7e7e7e, #7e7e7e 10px, #5c5c5c 10px, #5c5c5c 20px);\n",
       "    }\n",
       "    .progress-bar-interrupted, .progress-bar-interrupted::-webkit-progress-bar {\n",
       "        background: #F44336;\n",
       "    }\n",
       "</style>\n"
      ],
      "text/plain": [
       "<IPython.core.display.HTML object>"
      ]
     },
     "metadata": {},
     "output_type": "display_data"
    },
    {
     "data": {
      "text/html": [
       "\n",
       "    <div>\n",
       "      <progress value='2200' class='' max='2200' style='width:300px; height:20px; vertical-align: middle;'></progress>\n",
       "      100.00% [2200/2200 00:00&lt;00:00 Sampling 4 chains, 0 divergences]\n",
       "    </div>\n",
       "    "
      ],
      "text/plain": [
       "<IPython.core.display.HTML object>"
      ]
     },
     "metadata": {},
     "output_type": "display_data"
    },
    {
     "name": "stderr",
     "output_type": "stream",
     "text": [
      "Sampling 4 chains for 50 tune and 500 draw iterations (200 + 2_000 draws total) took 0 seconds.\n",
      " 71%|████████████████████████████████████████████████████████████████████████████████▉                                 | 71/100 [01:16<00:53,  1.86s/it]"
     ]
    },
    {
     "name": "stdout",
     "output_type": "stream",
     "text": [
      "Error in epoch 71: The following variables are not random variables in the model: ['kc12', 'kc21', 'Fnoise', 'scale', 'offset', 'kco1', 'koc2', 'ko12', 'ko21']\n"
     ]
    },
    {
     "name": "stderr",
     "output_type": "stream",
     "text": [
      " 72%|██████████████████████████████████████████████████████████████████████████████████                                | 72/100 [01:16<00:41,  1.49s/it]"
     ]
    },
    {
     "name": "stdout",
     "output_type": "stream",
     "text": [
      "Error in epoch 72: The following variables are not random variables in the model: ['kc12', 'kc21', 'Fnoise', 'scale', 'offset', 'kco1', 'koc2', 'ko12', 'ko21']\n"
     ]
    },
    {
     "name": "stderr",
     "output_type": "stream",
     "text": [
      " 73%|███████████████████████████████████████████████████████████████████████████████████▏                              | 73/100 [01:17<00:33,  1.24s/it]"
     ]
    },
    {
     "name": "stdout",
     "output_type": "stream",
     "text": [
      "Error in epoch 73: The following variables are not random variables in the model: ['kc12', 'kc21', 'Fnoise', 'scale', 'offset', 'kco1', 'koc2', 'ko12', 'ko21']\n"
     ]
    },
    {
     "name": "stderr",
     "output_type": "stream",
     "text": [
      " 74%|████████████████████████████████████████████████████████████████████████████████████▎                             | 74/100 [01:18<00:27,  1.07s/it]"
     ]
    },
    {
     "name": "stdout",
     "output_type": "stream",
     "text": [
      "Error in epoch 74: The following variables are not random variables in the model: ['kc12', 'kc21', 'Fnoise', 'scale', 'offset', 'kco1', 'koc2', 'ko12', 'ko21']\n"
     ]
    },
    {
     "name": "stderr",
     "output_type": "stream",
     "text": [
      " 75%|█████████████████████████████████████████████████████████████████████████████████████▌                            | 75/100 [01:18<00:23,  1.06it/s]"
     ]
    },
    {
     "name": "stdout",
     "output_type": "stream",
     "text": [
      "Error in epoch 75: The following variables are not random variables in the model: ['kc12', 'kc21', 'Fnoise', 'scale', 'offset', 'kco1', 'koc2', 'ko12', 'ko21']\n"
     ]
    },
    {
     "name": "stderr",
     "output_type": "stream",
     "text": [
      " 76%|██████████████████████████████████████████████████████████████████████████████████████▋                           | 76/100 [01:19<00:20,  1.17it/s]"
     ]
    },
    {
     "name": "stdout",
     "output_type": "stream",
     "text": [
      "Error in epoch 76: The following variables are not random variables in the model: ['kc12', 'kc21', 'Fnoise', 'scale', 'offset', 'kco1', 'koc2', 'ko12', 'ko21']\n"
     ]
    },
    {
     "name": "stderr",
     "output_type": "stream",
     "text": [
      " 77%|███████████████████████████████████████████████████████████████████████████████████████▊                          | 77/100 [01:20<00:18,  1.27it/s]"
     ]
    },
    {
     "name": "stdout",
     "output_type": "stream",
     "text": [
      "Error in epoch 77: The following variables are not random variables in the model: ['kc12', 'kc21', 'Fnoise', 'scale', 'offset', 'kco1', 'koc2', 'ko12', 'ko21']\n"
     ]
    },
    {
     "name": "stderr",
     "output_type": "stream",
     "text": [
      " 78%|████████████████████████████████████████████████████████████████████████████████████████▉                         | 78/100 [01:20<00:16,  1.35it/s]"
     ]
    },
    {
     "name": "stdout",
     "output_type": "stream",
     "text": [
      "Error in epoch 78: The following variables are not random variables in the model: ['kc12', 'kc21', 'Fnoise', 'scale', 'offset', 'kco1', 'koc2', 'ko12', 'ko21']\n"
     ]
    },
    {
     "name": "stderr",
     "output_type": "stream",
     "text": [
      " 79%|██████████████████████████████████████████████████████████████████████████████████████████                        | 79/100 [01:21<00:14,  1.41it/s]"
     ]
    },
    {
     "name": "stdout",
     "output_type": "stream",
     "text": [
      "Error in epoch 79: The following variables are not random variables in the model: ['kc12', 'kc21', 'Fnoise', 'scale', 'offset', 'kco1', 'koc2', 'ko12', 'ko21']\n"
     ]
    },
    {
     "name": "stderr",
     "output_type": "stream",
     "text": [
      " 80%|███████████████████████████████████████████████████████████████████████████████████████████▏                      | 80/100 [01:21<00:13,  1.46it/s]"
     ]
    },
    {
     "name": "stdout",
     "output_type": "stream",
     "text": [
      "Error in epoch 80: The following variables are not random variables in the model: ['kc12', 'kc21', 'Fnoise', 'scale', 'offset', 'kco1', 'koc2', 'ko12', 'ko21']\n"
     ]
    },
    {
     "name": "stderr",
     "output_type": "stream",
     "text": [
      "Auto-assigning NUTS sampler...\n",
      "Initializing NUTS using jitter+adapt_diag...\n",
      "Multiprocess sampling (4 chains in 4 jobs)\n",
      "NUTS: [kc21, kc12, kco1, koc2, ko12, ko21, Fnoise, scale, offset]\n"
     ]
    },
    {
     "data": {
      "text/html": [
       "\n",
       "<style>\n",
       "    /* Turns off some styling */\n",
       "    progress {\n",
       "        /* gets rid of default border in Firefox and Opera. */\n",
       "        border: none;\n",
       "        /* Needs to be in here for Safari polyfill so background images work as expected. */\n",
       "        background-size: auto;\n",
       "    }\n",
       "    progress:not([value]), progress:not([value])::-webkit-progress-bar {\n",
       "        background: repeating-linear-gradient(45deg, #7e7e7e, #7e7e7e 10px, #5c5c5c 10px, #5c5c5c 20px);\n",
       "    }\n",
       "    .progress-bar-interrupted, .progress-bar-interrupted::-webkit-progress-bar {\n",
       "        background: #F44336;\n",
       "    }\n",
       "</style>\n"
      ],
      "text/plain": [
       "<IPython.core.display.HTML object>"
      ]
     },
     "metadata": {},
     "output_type": "display_data"
    },
    {
     "data": {
      "text/html": [
       "\n",
       "    <div>\n",
       "      <progress value='2200' class='' max='2200' style='width:300px; height:20px; vertical-align: middle;'></progress>\n",
       "      100.00% [2200/2200 00:00&lt;00:00 Sampling 4 chains, 0 divergences]\n",
       "    </div>\n",
       "    "
      ],
      "text/plain": [
       "<IPython.core.display.HTML object>"
      ]
     },
     "metadata": {},
     "output_type": "display_data"
    },
    {
     "name": "stderr",
     "output_type": "stream",
     "text": [
      "Sampling 4 chains for 50 tune and 500 draw iterations (200 + 2_000 draws total) took 0 seconds.\n",
      " 81%|████████████████████████████████████████████████████████████████████████████████████████████▎                     | 81/100 [01:26<00:35,  1.87s/it]"
     ]
    },
    {
     "name": "stdout",
     "output_type": "stream",
     "text": [
      "Error in epoch 81: The following variables are not random variables in the model: ['kc12', 'kc21', 'Fnoise', 'scale', 'offset', 'kco1', 'koc2', 'ko12', 'ko21']\n"
     ]
    },
    {
     "name": "stderr",
     "output_type": "stream",
     "text": [
      " 82%|█████████████████████████████████████████████████████████████████████████████████████████████▍                    | 82/100 [01:27<00:27,  1.50s/it]"
     ]
    },
    {
     "name": "stdout",
     "output_type": "stream",
     "text": [
      "Error in epoch 82: The following variables are not random variables in the model: ['kc12', 'kc21', 'Fnoise', 'scale', 'offset', 'kco1', 'koc2', 'ko12', 'ko21']\n"
     ]
    },
    {
     "name": "stderr",
     "output_type": "stream",
     "text": [
      " 83%|██████████████████████████████████████████████████████████████████████████████████████████████▌                   | 83/100 [01:27<00:21,  1.25s/it]"
     ]
    },
    {
     "name": "stdout",
     "output_type": "stream",
     "text": [
      "Error in epoch 83: The following variables are not random variables in the model: ['kc12', 'kc21', 'Fnoise', 'scale', 'offset', 'kco1', 'koc2', 'ko12', 'ko21']\n"
     ]
    },
    {
     "name": "stderr",
     "output_type": "stream",
     "text": [
      " 84%|███████████████████████████████████████████████████████████████████████████████████████████████▊                  | 84/100 [01:28<00:17,  1.06s/it]"
     ]
    },
    {
     "name": "stdout",
     "output_type": "stream",
     "text": [
      "Error in epoch 84: The following variables are not random variables in the model: ['kc12', 'kc21', 'Fnoise', 'scale', 'offset', 'kco1', 'koc2', 'ko12', 'ko21']\n"
     ]
    },
    {
     "name": "stderr",
     "output_type": "stream",
     "text": [
      " 85%|████████████████████████████████████████████████████████████████████████████████████████████████▉                 | 85/100 [01:29<00:14,  1.07it/s]"
     ]
    },
    {
     "name": "stdout",
     "output_type": "stream",
     "text": [
      "Error in epoch 85: The following variables are not random variables in the model: ['kc12', 'kc21', 'Fnoise', 'scale', 'offset', 'kco1', 'koc2', 'ko12', 'ko21']\n"
     ]
    },
    {
     "name": "stderr",
     "output_type": "stream",
     "text": [
      " 86%|██████████████████████████████████████████████████████████████████████████████████████████████████                | 86/100 [01:29<00:11,  1.18it/s]"
     ]
    },
    {
     "name": "stdout",
     "output_type": "stream",
     "text": [
      "Error in epoch 86: The following variables are not random variables in the model: ['kc12', 'kc21', 'Fnoise', 'scale', 'offset', 'kco1', 'koc2', 'ko12', 'ko21']\n"
     ]
    },
    {
     "name": "stderr",
     "output_type": "stream",
     "text": [
      " 87%|███████████████████████████████████████████████████████████████████████████████████████████████████▏              | 87/100 [01:30<00:10,  1.27it/s]"
     ]
    },
    {
     "name": "stdout",
     "output_type": "stream",
     "text": [
      "Error in epoch 87: The following variables are not random variables in the model: ['kc12', 'kc21', 'Fnoise', 'scale', 'offset', 'kco1', 'koc2', 'ko12', 'ko21']\n"
     ]
    },
    {
     "name": "stderr",
     "output_type": "stream",
     "text": [
      " 88%|████████████████████████████████████████████████████████████████████████████████████████████████████▎             | 88/100 [01:31<00:08,  1.35it/s]"
     ]
    },
    {
     "name": "stdout",
     "output_type": "stream",
     "text": [
      "Error in epoch 88: The following variables are not random variables in the model: ['kc12', 'kc21', 'Fnoise', 'scale', 'offset', 'kco1', 'koc2', 'ko12', 'ko21']\n"
     ]
    },
    {
     "name": "stderr",
     "output_type": "stream",
     "text": [
      " 89%|█████████████████████████████████████████████████████████████████████████████████████████████████████▍            | 89/100 [01:31<00:07,  1.41it/s]"
     ]
    },
    {
     "name": "stdout",
     "output_type": "stream",
     "text": [
      "Error in epoch 89: The following variables are not random variables in the model: ['kc12', 'kc21', 'Fnoise', 'scale', 'offset', 'kco1', 'koc2', 'ko12', 'ko21']\n"
     ]
    },
    {
     "name": "stderr",
     "output_type": "stream",
     "text": [
      " 90%|██████████████████████████████████████████████████████████████████████████████████████████████████████▌           | 90/100 [01:32<00:06,  1.46it/s]"
     ]
    },
    {
     "name": "stdout",
     "output_type": "stream",
     "text": [
      "Error in epoch 90: The following variables are not random variables in the model: ['kc12', 'kc21', 'Fnoise', 'scale', 'offset', 'kco1', 'koc2', 'ko12', 'ko21']\n"
     ]
    },
    {
     "name": "stderr",
     "output_type": "stream",
     "text": [
      "Auto-assigning NUTS sampler...\n",
      "Initializing NUTS using jitter+adapt_diag...\n",
      "Multiprocess sampling (4 chains in 4 jobs)\n",
      "NUTS: [kc21, kc12, kco1, koc2, ko12, ko21, Fnoise, scale, offset]\n"
     ]
    },
    {
     "data": {
      "text/html": [
       "\n",
       "<style>\n",
       "    /* Turns off some styling */\n",
       "    progress {\n",
       "        /* gets rid of default border in Firefox and Opera. */\n",
       "        border: none;\n",
       "        /* Needs to be in here for Safari polyfill so background images work as expected. */\n",
       "        background-size: auto;\n",
       "    }\n",
       "    progress:not([value]), progress:not([value])::-webkit-progress-bar {\n",
       "        background: repeating-linear-gradient(45deg, #7e7e7e, #7e7e7e 10px, #5c5c5c 10px, #5c5c5c 20px);\n",
       "    }\n",
       "    .progress-bar-interrupted, .progress-bar-interrupted::-webkit-progress-bar {\n",
       "        background: #F44336;\n",
       "    }\n",
       "</style>\n"
      ],
      "text/plain": [
       "<IPython.core.display.HTML object>"
      ]
     },
     "metadata": {},
     "output_type": "display_data"
    },
    {
     "data": {
      "text/html": [
       "\n",
       "    <div>\n",
       "      <progress value='2200' class='' max='2200' style='width:300px; height:20px; vertical-align: middle;'></progress>\n",
       "      100.00% [2200/2200 00:00&lt;00:00 Sampling 4 chains, 0 divergences]\n",
       "    </div>\n",
       "    "
      ],
      "text/plain": [
       "<IPython.core.display.HTML object>"
      ]
     },
     "metadata": {},
     "output_type": "display_data"
    },
    {
     "name": "stderr",
     "output_type": "stream",
     "text": [
      "Sampling 4 chains for 50 tune and 500 draw iterations (200 + 2_000 draws total) took 0 seconds.\n",
      " 91%|███████████████████████████████████████████████████████████████████████████████████████████████████████▋          | 91/100 [01:36<00:14,  1.59s/it]"
     ]
    }
   ],
   "source": [
    "from tqdm import tqdm\n",
    "import pymc as pm\n",
    "import torch\n",
    "\n",
    "def train_gan_mcmc_hybrid(model, discriminator, real_data, num_epochs, num_samples, T, dt):\n",
    "    trace = None  # Initialize trace as None\n",
    "    for epoch in tqdm(range(num_epochs)):\n",
    "        #clear_output(wait=True)\n",
    "        try:\n",
    "            # If it's the first epoch or we want to reinitialize trace periodically\n",
    "            if trace is None or epoch % 10 == 0:  # Reinitialize every 10 epochs, adjust as needed\n",
    "                with model:\n",
    "                    # Initialize with a short run of standard MCMC\n",
    "                    trace = pm.sample(500, tune=50, chains=4)\n",
    "            \n",
    "            # Generate synthetic data using current trace\n",
    "            synthetic_data = generate_synthetic_data(trace, num_samples, T, dt)\n",
    "            \n",
    "            # Train discriminator\n",
    "            real_output = discriminator(real_data)\n",
    "            fake_output = discriminator(synthetic_data)\n",
    "            disc_loss = discriminator_loss(real_output, fake_output)\n",
    "            discriminator_optimizer.zero_grad()\n",
    "            disc_loss.backward()\n",
    "            discriminator_optimizer.step()\n",
    "            \n",
    "            # Get updated discriminator probabilities\n",
    "            with torch.no_grad():\n",
    "                disc_probs = torch.sigmoid(discriminator(synthetic_data)).reshape(-1) \n",
    "            \n",
    "            # Update the model with new discriminator probabilities\n",
    "            with model:\n",
    "                pm.set_data({'discriminator_probs': disc_probs})\n",
    "            \n",
    "            # Perform MCMC with custom step method\n",
    "            custom_step = CustomGANStep(\n",
    "                vars=['kc12', 'kc21', 'Fnoise', 'scale', 'offset', 'kco1', 'koc2', 'ko12', 'ko21'],\n",
    "                model=model,\n",
    "                discriminator=discriminator\n",
    "            )\n",
    "                        \n",
    "            with model:\n",
    "                if epoch < 2:\n",
    "                    trace = pm.sample(500, tune=100, chains=4)\n",
    "                else:\n",
    "                    trace = pm.sample(500, step=[custom_step], chains=1)\n",
    "            \n",
    "            # Optional: Print some diagnostics\n",
    "            print(f\"Epoch {epoch+1}/{num_epochs}, Disc Loss: {disc_loss.item():.4f}\")\n",
    "        \n",
    "        except Exception as e:\n",
    "            print(f\"Error in epoch {epoch+1}: {str(e)}\")\n",
    "            # You might want to add more detailed error handling here\n",
    "    return trace\n",
    "\n",
    "# Usage\n",
    "final_trace = train_gan_mcmc_hybrid(model, discriminator, real_data, \n",
    "                                    num_epochs=EPOCHS, num_samples=NUM_SAMPLES, T=T, dt=dt)"
   ]
  },
  {
   "cell_type": "code",
   "execution_count": null,
   "id": "b5fec304-2ed1-434c-a8ab-286246908e93",
   "metadata": {},
   "outputs": [],
   "source": []
  },
  {
   "cell_type": "code",
   "execution_count": null,
   "id": "b1e39989-28a9-4ba6-a8c9-7340d11f05cb",
   "metadata": {},
   "outputs": [],
   "source": []
  },
  {
   "cell_type": "code",
   "execution_count": null,
   "id": "1ac8f576-9772-4d5d-b4eb-a65a8fc93c9c",
   "metadata": {},
   "outputs": [],
   "source": []
  }
 ],
 "metadata": {
  "kernelspec": {
   "display_name": "Python 3 (ipykernel)",
   "language": "python",
   "name": "python3"
  },
  "language_info": {
   "codemirror_mode": {
    "name": "ipython",
    "version": 3
   },
   "file_extension": ".py",
   "mimetype": "text/x-python",
   "name": "python",
   "nbconvert_exporter": "python",
   "pygments_lexer": "ipython3",
   "version": "3.9.19"
  }
 },
 "nbformat": 4,
 "nbformat_minor": 5
}
