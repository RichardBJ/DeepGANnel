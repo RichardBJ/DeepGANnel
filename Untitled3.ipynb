{
 "cells": [
  {
   "cell_type": "code",
   "execution_count": null,
   "id": "bfd0858f-eaee-4315-a518-e07b4589f080",
   "metadata": {},
   "outputs": [],
   "source": [
    "print(\"Hello\")"
   ]
  },
  {
   "cell_type": "code",
   "execution_count": 1,
   "id": "8234fe09-1b38-4e08-83b2-b365c51cc476",
   "metadata": {},
   "outputs": [],
   "source": [
    "def getREALepoch() -> int:\n",
    "    import glob\n",
    "    import os\n",
    "    import re\n",
    "    \"\"\"\n",
    "    Save the current image to the working directory of the program.\n",
    "    \"\"\"\n",
    "    currentfiles = glob.glob(\"markovCheckpoints/*.index\")\n",
    "   \n",
    "    numList = [0]\n",
    "    for file in currentfiles:\n",
    "        i = os.path.splitext(file)[0]\n",
    "        try:\n",
    "            pattern = r'-(\\d+)'\n",
    "            num = re.findall(pattern, i)[0]\n",
    "            numList.append(int(num))\n",
    "        except IndexError:\n",
    "            pass\n",
    "    numList = sorted(numList)\n",
    "    return numList[-1]+1"
   ]
  },
  {
   "cell_type": "code",
   "execution_count": 2,
   "id": "9a2702cf-3474-451a-94c9-1ccdc8543e4b",
   "metadata": {},
   "outputs": [
    {
     "data": {
      "text/plain": [
       "4"
      ]
     },
     "execution_count": 2,
     "metadata": {},
     "output_type": "execute_result"
    }
   ],
   "source": [
    "getREALepoch()"
   ]
  },
  {
   "cell_type": "code",
   "execution_count": null,
   "id": "5ee984b9-3dff-46ec-8a6d-17ba837f84ca",
   "metadata": {},
   "outputs": [],
   "source": []
  }
 ],
 "metadata": {
  "kernelspec": {
   "display_name": "Python 3 (ipykernel)",
   "language": "python",
   "name": "python3"
  },
  "language_info": {
   "codemirror_mode": {
    "name": "ipython",
    "version": 3
   },
   "file_extension": ".py",
   "mimetype": "text/x-python",
   "name": "python",
   "nbconvert_exporter": "python",
   "pygments_lexer": "ipython3",
   "version": "3.9.19"
  }
 },
 "nbformat": 4,
 "nbformat_minor": 5
}
