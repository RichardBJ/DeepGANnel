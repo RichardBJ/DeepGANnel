{
 "cells": [
  {
   "cell_type": "code",
   "execution_count": 14,
   "id": "ea870a5e-96c6-4afe-9e4e-202c856b8846",
   "metadata": {},
   "outputs": [],
   "source": [
    "import numpy as np\n",
    "from scipy.spatial.distance import euclidean\n",
    "from fastdtw import fastdtw\n",
    "\n",
    "a = np.array([1, 2, 3, 4, 2, 3, 2, 3, 4])\n",
    "b = np.array([1, 2, 3, 4, 2, 3, 2, 3, 5])\n",
    "\n",
    "# Calculate pairwise DTW distances\n",
    "distance, _ = fastdtw(a.reshape(-1,1), b.reshape(-1,1), dist=euclidean)\n"
   ]
  },
  {
   "cell_type": "code",
   "execution_count": 15,
   "id": "9234baf5-eda4-4d0e-baf5-fd1f21f07695",
   "metadata": {},
   "outputs": [
    {
     "data": {
      "text/plain": [
       "1.0"
      ]
     },
     "execution_count": 15,
     "metadata": {},
     "output_type": "execute_result"
    }
   ],
   "source": [
    "distance"
   ]
  },
  {
   "cell_type": "code",
   "execution_count": null,
   "id": "2188a612-1edd-445c-a9b5-eb113212acd9",
   "metadata": {},
   "outputs": [],
   "source": []
  },
  {
   "cell_type": "code",
   "execution_count": null,
   "id": "047a2af0-6e82-4e31-8230-6addb2b4b629",
   "metadata": {},
   "outputs": [],
   "source": []
  }
 ],
 "metadata": {
  "kernelspec": {
   "display_name": "Python 3 (ipykernel)",
   "language": "python",
   "name": "python3"
  },
  "language_info": {
   "codemirror_mode": {
    "name": "ipython",
    "version": 3
   },
   "file_extension": ".py",
   "mimetype": "text/x-python",
   "name": "python",
   "nbconvert_exporter": "python",
   "pygments_lexer": "ipython3",
   "version": "3.10.13"
  }
 },
 "nbformat": 4,
 "nbformat_minor": 5
}
