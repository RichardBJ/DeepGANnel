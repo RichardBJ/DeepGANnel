{
 "cells": [
  {
   "cell_type": "code",
   "execution_count": 38,
   "id": "d21d6d2b-76c2-4955-94ea-a442d57a57a8",
   "metadata": {},
   "outputs": [],
   "source": [
    "import numpy as np\n",
    "import pymc as pm\n",
    "from pytensor.compile.ops import as_op\n",
    "import pytensor.tensor as pt\n",
    "import arviz as az\n",
    "import matplotlib.pyplot as plt\n",
    "\n",
    "points=100 #=Samples\n",
    "from scipy.fft import fft, fftfreq\n",
    "\n",
    "\n",
    "#MAKE SOME REAL DATA\n",
    "#@as_op(itypes=[pt.dscalar, pt.dscalar, pt.dvector], otypes=[pt.dvector])\n",
    "def find_dominant_frequencies(data, sampling_rate=100):\n",
    "\n",
    "    n_waves, n_samples = data.shape\n",
    "    \n",
    "    # Compute the FFT for each row\n",
    "    fft_results = np.abs(fft(data, axis=1))\n",
    "    \n",
    "    # Create frequency axis\n",
    "    frequencies = fftfreq(n_samples, 1 / sampling_rate)\n",
    "    \n",
    "    # We only need the positive frequencies\n",
    "    positive_freq_mask = frequencies > 0\n",
    "    positive_frequencies = frequencies[positive_freq_mask]\n",
    "    fft_results = fft_results[:, positive_freq_mask]\n",
    "    \n",
    "    # Find the dominant frequency for each sine wave\n",
    "    dominant_frequencies = positive_frequencies[np.argmax(fft_results, axis=1)]\n",
    "    \n",
    "    return dominant_frequencies\n",
    "\n",
    "\n",
    "#@as_op(itypes=[pt.dscalar, pt.dscalar, pt.dvector], otypes=[pt.dvector])\n",
    "def make_sine(amp, freq, phase, offset, points=100, noise=0):\n",
    "    x = np.linspace(0, 10, points)\n",
    "    sine = amp * np.sin(2 * np.pi * freq * x + phase) + offset\n",
    "    if noise > 0:\n",
    "        sine += np.random.normal(0, noise, size=len(sine))\n",
    "    return sine\n",
    "\n",
    "\n",
    "points = 100  # Samples per sine wave\n",
    "n_waves = 20  # Reduced number of waves\n",
    "\n",
    "# Generate observed data\n",
    "true_amp, true_freq, true_phase, true_offset = 1.0, 1.0, 0.0, 0.5\n",
    "observed_sines = np.array([make_sine(true_amp, true_freq, true_phase, true_offset, noise=0.1) for _ in range(n_waves)])\n",
    "observed_freqs = find_dominant_frequencies(observed_sines)"
   ]
  },
  {
   "cell_type": "code",
   "execution_count": 39,
   "id": "358e32e9-b429-4e3b-aa38-8e5ad5b84a6e",
   "metadata": {},
   "outputs": [],
   "source": [
    "@as_op(itypes=[pt.dscalar, pt.dscalar, pt.dvector], otypes=[pt.dvector])\n",
    "def find_dominant_frequencies(data, sampling_rate=100):\n",
    "\n",
    "    n_waves, n_samples = data.shape\n",
    "    \n",
    "    # Compute the FFT for each row\n",
    "    fft_results = np.abs(fft(data, axis=1))\n",
    "    \n",
    "    # Create frequency axis\n",
    "    frequencies = fftfreq(n_samples, 1 / sampling_rate)\n",
    "    \n",
    "    # We only need the positive frequencies\n",
    "    positive_freq_mask = frequencies > 0\n",
    "    positive_frequencies = frequencies[positive_freq_mask]\n",
    "    fft_results = fft_results[:, positive_freq_mask]\n",
    "    \n",
    "    # Find the dominant frequency for each sine wave\n",
    "    dominant_frequencies = positive_frequencies[np.argmax(fft_results, axis=1)]\n",
    "    \n",
    "    return dominant_frequencies\n",
    "\n",
    "\n",
    "@as_op(itypes=[pt.dscalar, pt.dscalar, pt.dvector], otypes=[pt.dvector])\n",
    "def make_sine(amp, freq, phase, offset, points=100, noise=0):\n",
    "    x = np.linspace(0, 10, points)\n",
    "    sine = amp * np.sin(2 * np.pi * freq * x + phase) + offset\n",
    "    if noise > 0:\n",
    "        sine += np.random.normal(0, noise, size=len(sine))\n",
    "    return sine"
   ]
  },
  {
   "cell_type": "code",
   "execution_count": 40,
   "id": "b2786e11-c443-4ca5-ad29-506e35bbaf36",
   "metadata": {},
   "outputs": [
    {
     "ename": "ValueError",
     "evalue": "We expected 3 inputs but got 4.",
     "output_type": "error",
     "traceback": [
      "\u001b[0;31m---------------------------------------------------------------------------\u001b[0m",
      "\u001b[0;31mValueError\u001b[0m                                Traceback (most recent call last)",
      "Cell \u001b[0;32mIn[40], line 22\u001b[0m\n\u001b[1;32m     19\u001b[0m x \u001b[38;5;241m=\u001b[39m np\u001b[38;5;241m.\u001b[39mlinspace(\u001b[38;5;241m0\u001b[39m, \u001b[38;5;241m10\u001b[39m, points)\n\u001b[1;32m     21\u001b[0m \u001b[38;5;66;03m# Use pm.Deterministic to create the wave\u001b[39;00m\n\u001b[0;32m---> 22\u001b[0m wave \u001b[38;5;241m=\u001b[39m [make_sine(amplitude, frequency, phase, offset) \u001b[38;5;28;01mfor\u001b[39;00m _ \u001b[38;5;129;01min\u001b[39;00m \u001b[38;5;28mrange\u001b[39m(n_waves)]\n\u001b[1;32m     24\u001b[0m \u001b[38;5;66;03m# Use the custom FFT in a Deterministic\u001b[39;00m\n\u001b[1;32m     25\u001b[0m modeled_freq \u001b[38;5;241m=\u001b[39m find_dominant_frequencies(wave, sampling_rate\u001b[38;5;241m=\u001b[39m\u001b[38;5;241m100\u001b[39m)\n",
      "Cell \u001b[0;32mIn[40], line 22\u001b[0m, in \u001b[0;36m<listcomp>\u001b[0;34m(.0)\u001b[0m\n\u001b[1;32m     19\u001b[0m x \u001b[38;5;241m=\u001b[39m np\u001b[38;5;241m.\u001b[39mlinspace(\u001b[38;5;241m0\u001b[39m, \u001b[38;5;241m10\u001b[39m, points)\n\u001b[1;32m     21\u001b[0m \u001b[38;5;66;03m# Use pm.Deterministic to create the wave\u001b[39;00m\n\u001b[0;32m---> 22\u001b[0m wave \u001b[38;5;241m=\u001b[39m [\u001b[43mmake_sine\u001b[49m\u001b[43m(\u001b[49m\u001b[43mamplitude\u001b[49m\u001b[43m,\u001b[49m\u001b[43m \u001b[49m\u001b[43mfrequency\u001b[49m\u001b[43m,\u001b[49m\u001b[43m \u001b[49m\u001b[43mphase\u001b[49m\u001b[43m,\u001b[49m\u001b[43m \u001b[49m\u001b[43moffset\u001b[49m\u001b[43m)\u001b[49m \u001b[38;5;28;01mfor\u001b[39;00m _ \u001b[38;5;129;01min\u001b[39;00m \u001b[38;5;28mrange\u001b[39m(n_waves)]\n\u001b[1;32m     24\u001b[0m \u001b[38;5;66;03m# Use the custom FFT in a Deterministic\u001b[39;00m\n\u001b[1;32m     25\u001b[0m modeled_freq \u001b[38;5;241m=\u001b[39m find_dominant_frequencies(wave, sampling_rate\u001b[38;5;241m=\u001b[39m\u001b[38;5;241m100\u001b[39m)\n",
      "File \u001b[0;32m~/miniconda3/envs/metal_102/lib/python3.9/site-packages/pytensor/graph/op.py:295\u001b[0m, in \u001b[0;36mOp.__call__\u001b[0;34m(self, *inputs, **kwargs)\u001b[0m\n\u001b[1;32m    253\u001b[0m \u001b[38;5;250m\u001b[39m\u001b[38;5;124mr\u001b[39m\u001b[38;5;124;03m\"\"\"Construct an `Apply` node using :meth:`Op.make_node` and return its outputs.\u001b[39;00m\n\u001b[1;32m    254\u001b[0m \n\u001b[1;32m    255\u001b[0m \u001b[38;5;124;03mThis method is just a wrapper around :meth:`Op.make_node`.\u001b[39;00m\n\u001b[0;32m   (...)\u001b[0m\n\u001b[1;32m    292\u001b[0m \n\u001b[1;32m    293\u001b[0m \u001b[38;5;124;03m\"\"\"\u001b[39;00m\n\u001b[1;32m    294\u001b[0m return_list \u001b[38;5;241m=\u001b[39m kwargs\u001b[38;5;241m.\u001b[39mpop(\u001b[38;5;124m\"\u001b[39m\u001b[38;5;124mreturn_list\u001b[39m\u001b[38;5;124m\"\u001b[39m, \u001b[38;5;28;01mFalse\u001b[39;00m)\n\u001b[0;32m--> 295\u001b[0m node \u001b[38;5;241m=\u001b[39m \u001b[38;5;28;43mself\u001b[39;49m\u001b[38;5;241;43m.\u001b[39;49m\u001b[43mmake_node\u001b[49m\u001b[43m(\u001b[49m\u001b[38;5;241;43m*\u001b[39;49m\u001b[43minputs\u001b[49m\u001b[43m,\u001b[49m\u001b[43m \u001b[49m\u001b[38;5;241;43m*\u001b[39;49m\u001b[38;5;241;43m*\u001b[39;49m\u001b[43mkwargs\u001b[49m\u001b[43m)\u001b[49m\n\u001b[1;32m    297\u001b[0m \u001b[38;5;28;01mif\u001b[39;00m config\u001b[38;5;241m.\u001b[39mcompute_test_value \u001b[38;5;241m!=\u001b[39m \u001b[38;5;124m\"\u001b[39m\u001b[38;5;124moff\u001b[39m\u001b[38;5;124m\"\u001b[39m:\n\u001b[1;32m    298\u001b[0m     compute_test_value(node)\n",
      "File \u001b[0;32m~/miniconda3/envs/metal_102/lib/python3.9/site-packages/pytensor/graph/op.py:232\u001b[0m, in \u001b[0;36mOp.make_node\u001b[0;34m(self, *inputs)\u001b[0m\n\u001b[1;32m    227\u001b[0m     \u001b[38;5;28;01mraise\u001b[39;00m \u001b[38;5;167;01mNotImplementedError\u001b[39;00m(\n\u001b[1;32m    228\u001b[0m         \u001b[38;5;124m\"\u001b[39m\u001b[38;5;124mYou can either define itypes and otypes, or implement make_node\u001b[39m\u001b[38;5;124m\"\u001b[39m\n\u001b[1;32m    229\u001b[0m     )\n\u001b[1;32m    231\u001b[0m \u001b[38;5;28;01mif\u001b[39;00m \u001b[38;5;28mlen\u001b[39m(inputs) \u001b[38;5;241m!=\u001b[39m \u001b[38;5;28mlen\u001b[39m(\u001b[38;5;28mself\u001b[39m\u001b[38;5;241m.\u001b[39mitypes):\n\u001b[0;32m--> 232\u001b[0m     \u001b[38;5;28;01mraise\u001b[39;00m \u001b[38;5;167;01mValueError\u001b[39;00m(\n\u001b[1;32m    233\u001b[0m         \u001b[38;5;124mf\u001b[39m\u001b[38;5;124m\"\u001b[39m\u001b[38;5;124mWe expected \u001b[39m\u001b[38;5;132;01m{\u001b[39;00m\u001b[38;5;28mlen\u001b[39m(\u001b[38;5;28mself\u001b[39m\u001b[38;5;241m.\u001b[39mitypes)\u001b[38;5;132;01m}\u001b[39;00m\u001b[38;5;124m inputs but got \u001b[39m\u001b[38;5;132;01m{\u001b[39;00m\u001b[38;5;28mlen\u001b[39m(inputs)\u001b[38;5;132;01m}\u001b[39;00m\u001b[38;5;124m.\u001b[39m\u001b[38;5;124m\"\u001b[39m\n\u001b[1;32m    234\u001b[0m     )\n\u001b[1;32m    235\u001b[0m \u001b[38;5;28;01mif\u001b[39;00m \u001b[38;5;129;01mnot\u001b[39;00m \u001b[38;5;28mall\u001b[39m(\n\u001b[1;32m    236\u001b[0m     expected_type\u001b[38;5;241m.\u001b[39mis_super(var\u001b[38;5;241m.\u001b[39mtype)\n\u001b[1;32m    237\u001b[0m     \u001b[38;5;28;01mfor\u001b[39;00m var, expected_type \u001b[38;5;129;01min\u001b[39;00m \u001b[38;5;28mzip\u001b[39m(inputs, \u001b[38;5;28mself\u001b[39m\u001b[38;5;241m.\u001b[39mitypes)\n\u001b[1;32m    238\u001b[0m ):\n\u001b[1;32m    239\u001b[0m     \u001b[38;5;28;01mraise\u001b[39;00m \u001b[38;5;167;01mTypeError\u001b[39;00m(\n\u001b[1;32m    240\u001b[0m         \u001b[38;5;124mf\u001b[39m\u001b[38;5;124m\"\u001b[39m\u001b[38;5;124mInvalid input types for Op \u001b[39m\u001b[38;5;132;01m{\u001b[39;00m\u001b[38;5;28mself\u001b[39m\u001b[38;5;132;01m}\u001b[39;00m\u001b[38;5;124m:\u001b[39m\u001b[38;5;130;01m\\n\u001b[39;00m\u001b[38;5;124m\"\u001b[39m\n\u001b[1;32m    241\u001b[0m         \u001b[38;5;241m+\u001b[39m \u001b[38;5;124m\"\u001b[39m\u001b[38;5;130;01m\\n\u001b[39;00m\u001b[38;5;124m\"\u001b[39m\u001b[38;5;241m.\u001b[39mjoin(\n\u001b[0;32m   (...)\u001b[0m\n\u001b[1;32m    248\u001b[0m         )\n\u001b[1;32m    249\u001b[0m     )\n",
      "\u001b[0;31mValueError\u001b[0m: We expected 3 inputs but got 4."
     ]
    }
   ],
   "source": [
    "import numpy as np\n",
    "from scipy.fft import fft, fftfreq\n",
    "import pymc as pm\n",
    "import arviz as az\n",
    "import matplotlib.pyplot as plt\n",
    "import pytensor\n",
    "import pytensor.tensor as pt\n",
    "\n",
    "# Define the PyMC model\n",
    "with pm.Model() as model:\n",
    "    # Priors\n",
    "    amplitude = pm.Uniform(\"amplitude\", lower=0, upper=10)\n",
    "    frequency = pm.Uniform(\"frequency\", lower=0, upper=5)\n",
    "    phase = pm.Uniform(\"phase\", lower=-np.pi, upper=np.pi)\n",
    "    offset = pm.Normal(\"offset\", mu=0, sigma=2)\n",
    "    sigma = pm.HalfNormal(\"sigma\", sigma=1)\n",
    "\n",
    "    # Define x outside the Deterministic\n",
    "    x = np.linspace(0, 10, points)\n",
    "\n",
    "    # Use pm.Deterministic to create the wave\n",
    "    wave = [make_sine(amplitude, frequency, phase, offset) for _ in range(n_waves)]\n",
    "    \n",
    "    # Use the custom FFT in a Deterministic\n",
    "    modeled_freq = find_dominant_frequencies(wave, sampling_rate=100)\n",
    "\n",
    "    Y_obs = pm.Normal(\"Y_obs\", \n",
    "                      mu=modeled_freq, \n",
    "                      sigma=sigma, \n",
    "                      observed=observed_freqs)\n",
    "\n",
    "    # Inference with reduced number of samples\n",
    "    trace = pm.sample(500, tune=500, return_inferencedata=True)\n",
    "\n",
    "# Plot the results\n",
    "az.plot_trace(trace)\n",
    "plt.tight_layout()\n",
    "plt.show()\n",
    "\n",
    "# Print the summary of the posterior\n",
    "print(az.summary(trace, var_names=[\"amplitude\", \"frequency\", \"phase\", \"offset\", \"sigma\", \"modeled_freq\"]))\n",
    "\n",
    "# Print the true parameters\n",
    "print(f\"True parameters: amplitude={true_amp}, frequency={true_freq}, phase={true_phase}, offset={true_offset}\")"
   ]
  },
  {
   "cell_type": "code",
   "execution_count": 18,
   "id": "dd5b97a6-007c-4cb8-8e70-154e211f2b36",
   "metadata": {},
   "outputs": [
    {
     "data": {
      "text/plain": [
       "array([10., 10., 10., 10., 10., 10., 10., 10., 10., 10., 10., 10., 10.,\n",
       "       10., 10., 10., 10., 10., 10., 10.])"
      ]
     },
     "execution_count": 18,
     "metadata": {},
     "output_type": "execute_result"
    }
   ],
   "source": [
    "find_dominant_frequencies(observed_sines)"
   ]
  },
  {
   "cell_type": "code",
   "execution_count": 22,
   "id": "db2b7fab-8ec9-4c52-94a7-599e66a56715",
   "metadata": {},
   "outputs": [
    {
     "data": {
      "text/plain": [
       "Shape.0"
      ]
     },
     "execution_count": 22,
     "metadata": {},
     "output_type": "execute_result"
    }
   ],
   "source": [
    "wave.shape"
   ]
  },
  {
   "cell_type": "code",
   "execution_count": 23,
   "id": "4cf7ec4d-dcf0-434f-95d2-71d08a48e989",
   "metadata": {},
   "outputs": [
    {
     "data": {
      "text/plain": [
       "pytensor.tensor.variable.TensorVariable"
      ]
     },
     "execution_count": 23,
     "metadata": {},
     "output_type": "execute_result"
    }
   ],
   "source": [
    "type(wave)"
   ]
  },
  {
   "cell_type": "code",
   "execution_count": 32,
   "id": "e36c32e6-e898-43d2-b506-e2fcf9aaa206",
   "metadata": {},
   "outputs": [
    {
     "ename": "ValueError",
     "evalue": "not enough values to unpack (expected 2, got 1)",
     "output_type": "error",
     "traceback": [
      "\u001b[0;31m---------------------------------------------------------------------------\u001b[0m",
      "\u001b[0;31mValueError\u001b[0m                                Traceback (most recent call last)",
      "Cell \u001b[0;32mIn[32], line 3\u001b[0m\n\u001b[1;32m      1\u001b[0m \u001b[38;5;28;01mwith\u001b[39;00m model:\n\u001b[1;32m      2\u001b[0m     wave_test \u001b[38;5;241m=\u001b[39m wave\u001b[38;5;241m.\u001b[39meval({amplitude: \u001b[38;5;241m1.0\u001b[39m, frequency: \u001b[38;5;241m1.0\u001b[39m, phase: \u001b[38;5;241m0.0\u001b[39m, offset: \u001b[38;5;241m0.5\u001b[39m})\n\u001b[0;32m----> 3\u001b[0m     freq_test \u001b[38;5;241m=\u001b[39m \u001b[43mfind_dominant_frequencies\u001b[49m\u001b[43m(\u001b[49m\u001b[43mwave\u001b[49m\u001b[43m)\u001b[49m\n\u001b[1;32m      4\u001b[0m     \u001b[38;5;28mprint\u001b[39m(\u001b[38;5;124mf\u001b[39m\u001b[38;5;124m\"\u001b[39m\u001b[38;5;124mTest wave shape: \u001b[39m\u001b[38;5;132;01m{\u001b[39;00mwave_test\u001b[38;5;241m.\u001b[39mshape\u001b[38;5;132;01m}\u001b[39;00m\u001b[38;5;124m\"\u001b[39m)\n\u001b[1;32m      5\u001b[0m     \u001b[38;5;28mprint\u001b[39m(\u001b[38;5;124mf\u001b[39m\u001b[38;5;124m\"\u001b[39m\u001b[38;5;124mFirst few values of test wave: \u001b[39m\u001b[38;5;132;01m{\u001b[39;00mwave_test[:\u001b[38;5;241m5\u001b[39m]\u001b[38;5;132;01m}\u001b[39;00m\u001b[38;5;124m\"\u001b[39m)\n",
      "Cell \u001b[0;32mIn[2], line 15\u001b[0m, in \u001b[0;36mfind_dominant_frequencies\u001b[0;34m(data, sampling_rate)\u001b[0m\n\u001b[1;32m      4\u001b[0m \u001b[38;5;28;01mdef\u001b[39;00m \u001b[38;5;21mfind_dominant_frequencies\u001b[39m(data, sampling_rate\u001b[38;5;241m=\u001b[39m\u001b[38;5;241m100\u001b[39m):\n\u001b[1;32m      5\u001b[0m \u001b[38;5;250m    \u001b[39m\u001b[38;5;124;03m\"\"\"\u001b[39;00m\n\u001b[1;32m      6\u001b[0m \u001b[38;5;124;03m    Find the dominant frequency for each sine wave in the input data.\u001b[39;00m\n\u001b[1;32m      7\u001b[0m \u001b[38;5;124;03m    \u001b[39;00m\n\u001b[0;32m   (...)\u001b[0m\n\u001b[1;32m     13\u001b[0m \u001b[38;5;124;03m    numpy.ndarray: 1D array of dominant frequencies for each sine wave\u001b[39;00m\n\u001b[1;32m     14\u001b[0m \u001b[38;5;124;03m    \"\"\"\u001b[39;00m\n\u001b[0;32m---> 15\u001b[0m     n_waves, n_samples \u001b[38;5;241m=\u001b[39m data\u001b[38;5;241m.\u001b[39mshape\n\u001b[1;32m     17\u001b[0m     \u001b[38;5;66;03m# Compute the FFT for each row\u001b[39;00m\n\u001b[1;32m     18\u001b[0m     fft_results \u001b[38;5;241m=\u001b[39m np\u001b[38;5;241m.\u001b[39mabs(fft(data, axis\u001b[38;5;241m=\u001b[39m\u001b[38;5;241m1\u001b[39m))\n",
      "\u001b[0;31mValueError\u001b[0m: not enough values to unpack (expected 2, got 1)"
     ]
    }
   ],
   "source": [
    "with model:\n",
    "    wave_test = wave.eval({amplitude: 1.0, frequency: 1.0, phase: 0.0, offset: 0.5})\n",
    "    freq_test = find_dominant_frequencies(wave)\n",
    "    print(f\"Test wave shape: {wave_test.shape}\")\n",
    "    print(f\"First few values of test wave: {wave_test[:5]}\")\n",
    "fft_results = np.abs(fft(wave_test))\n",
    "print(\"res\",freq_test)"
   ]
  },
  {
   "cell_type": "code",
   "execution_count": 14,
   "id": "b2c1bb45-57fc-4a15-a55a-263d659a79ca",
   "metadata": {},
   "outputs": [
    {
     "data": {
      "text/plain": [
       "9.022329404230423"
      ]
     },
     "execution_count": 14,
     "metadata": {},
     "output_type": "execute_result"
    }
   ],
   "source": [
    "amplitude.eval().item()"
   ]
  },
  {
   "cell_type": "code",
   "execution_count": null,
   "id": "39e877e6-575c-4c5f-bcd4-7fd24188369b",
   "metadata": {},
   "outputs": [],
   "source": []
  }
 ],
 "metadata": {
  "kernelspec": {
   "display_name": "Python 3 (ipykernel)",
   "language": "python",
   "name": "python3"
  },
  "language_info": {
   "codemirror_mode": {
    "name": "ipython",
    "version": 3
   },
   "file_extension": ".py",
   "mimetype": "text/x-python",
   "name": "python",
   "nbconvert_exporter": "python",
   "pygments_lexer": "ipython3",
   "version": "3.9.19"
  }
 },
 "nbformat": 4,
 "nbformat_minor": 5
}
